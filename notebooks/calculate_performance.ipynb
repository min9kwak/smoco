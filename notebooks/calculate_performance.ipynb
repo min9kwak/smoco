{
 "cells": [
  {
   "cell_type": "code",
   "execution_count": 1,
   "id": "f07763a6-d6cc-4272-9151-a490d50d634f",
   "metadata": {},
   "outputs": [],
   "source": [
    "import sys\n",
    "sys.path.append('../')"
   ]
  },
  {
   "cell_type": "code",
   "execution_count": 2,
   "id": "f0c55923-b4aa-41a4-85b5-eccea20f505b",
   "metadata": {},
   "outputs": [],
   "source": [
    "import os\n",
    "import time\n",
    "import rich\n",
    "import numpy as np\n",
    "import json\n",
    "from easydict import EasyDict as edict\n",
    "\n",
    "import torch\n",
    "import torch.nn as nn\n",
    "from torch.utils.data import DataLoader\n",
    "\n",
    "from models.densenet import UnimodalDenseNet\n",
    "from datasets.mri import MRI, MRIProcessor\n",
    "from tasks.unimodal import Classification\n"
   ]
  },
  {
   "cell_type": "code",
   "execution_count": 58,
   "id": "3d802ac2-2666-4882-96f4-522140f75ee2",
   "metadata": {},
   "outputs": [],
   "source": [
    "local_rank = 0\n",
    "model_checkpoint_dir = '../checkpoints/mri/densenet/'"
   ]
  },
  {
   "cell_type": "code",
   "execution_count": 80,
   "id": "69ede4a0-5c5b-4b0f-80ee-930cb2f8698d",
   "metadata": {},
   "outputs": [],
   "source": [
    "model_hash = '2022-05-14_18-26-51'# '2022-05-17_03-02-22' #'2022-05-14_18-26-51'"
   ]
  },
  {
   "cell_type": "code",
   "execution_count": 81,
   "id": "a5e78601-00ab-4009-8ee8-2955fa69eb71",
   "metadata": {},
   "outputs": [],
   "source": [
    "model_checkpoint_path = model_checkpoint_dir + model_hash"
   ]
  },
  {
   "cell_type": "code",
   "execution_count": 82,
   "id": "6a110082-ce36-4b26-abdb-0b1733d03f7f",
   "metadata": {},
   "outputs": [],
   "source": [
    "config = os.path.join(model_checkpoint_path, 'configs.json')\n",
    "with open(config, 'r') as f:\n",
    "    config = json.load(f)\n",
    "    config = edict(config)"
   ]
  },
  {
   "cell_type": "code",
   "execution_count": 83,
   "id": "b3030fb5-9e51-47dc-aa7d-b38ff02d1bcd",
   "metadata": {},
   "outputs": [],
   "source": [
    "np.random.seed(config.random_state)\n",
    "torch.manual_seed(config.random_state)\n",
    "\n",
    "torch.backends.cuda.matmul.allow_tf32 = True\n",
    "torch.backends.cudnn.benchmark = True\n",
    "torch.backends.cudnn.deterministic = False\n",
    "torch.backends.cudnn.allow_tf32 = True\n",
    "\n",
    "torch.cuda.set_device(local_rank)"
   ]
  },
  {
   "cell_type": "code",
   "execution_count": 84,
   "id": "3dff03c1-ffda-446f-a911-8a87150d5d01",
   "metadata": {},
   "outputs": [],
   "source": [
    "network = UnimodalDenseNet(in_channels=1,\n",
    "                           out_channels=2,\n",
    "                           init_features=config.init_features,\n",
    "                           growth_rate=config.growth_rate,\n",
    "                           block_config=tuple(config.block_config),\n",
    "                           bn_size=config.bn_size,\n",
    "                           dropout_rate=config.dropout_rate)"
   ]
  },
  {
   "cell_type": "code",
   "execution_count": 85,
   "id": "a66df2e5-1c6f-4cb1-8794-5ec9908eb644",
   "metadata": {},
   "outputs": [],
   "source": [
    "from monai.transforms import (\n",
    "    Compose, AddChannel, RandRotate90, Resize, ScaleIntensity, ToTensor, RandFlip, RandZoom,\n",
    "    NormalizeIntensity, RandGaussianNoise\n",
    ")\n",
    "from torchvision.transforms import ConvertImageDtype, Normalize"
   ]
  },
  {
   "cell_type": "code",
   "execution_count": 86,
   "id": "202fbb85-e30b-4955-b895-ff47a5553643",
   "metadata": {},
   "outputs": [],
   "source": [
    "test_transform = Compose([ToTensor(),\n",
    "                          ScaleIntensity(),\n",
    "                          AddChannel(),\n",
    "                          Resize((config.image_size, config.image_size, config.image_size)),\n",
    "                          ConvertImageDtype(torch.float32),\n",
    "                          ])"
   ]
  },
  {
   "cell_type": "code",
   "execution_count": 87,
   "id": "ba54660f-0e2a-49b0-b5e1-99fb1d13c382",
   "metadata": {},
   "outputs": [],
   "source": [
    "data_processor = MRIProcessor(root=config.root,\n",
    "                              data_info=config.data_info,\n",
    "                              random_state=config.random_state)\n",
    "datasets = data_processor.process(train_size=config.train_size)"
   ]
  },
  {
   "cell_type": "code",
   "execution_count": 88,
   "id": "dbb8655e-b9ec-406b-a451-e8dd0fa1a26b",
   "metadata": {},
   "outputs": [],
   "source": [
    "test_set = MRI(dataset=datasets['test'], transform=test_transform, pin_memory=config.pin_memory)\n",
    "test_loader = DataLoader(dataset=test_set, batch_size=16, num_workers=4,\n",
    "                         drop_last=False)"
   ]
  },
  {
   "cell_type": "code",
   "execution_count": 89,
   "id": "e712e17a-47cb-49d9-9764-195928cb9515",
   "metadata": {},
   "outputs": [
    {
     "data": {
      "text/plain": [
       "<All keys matched successfully>"
      ]
     },
     "execution_count": 89,
     "metadata": {},
     "output_type": "execute_result"
    }
   ],
   "source": [
    "ckpt = torch.load(os.path.join(model_checkpoint_path, 'ckpt.last.pth.tar'), map_location='cpu')\n",
    "network.load_state_dict(ckpt['network'])"
   ]
  },
  {
   "cell_type": "code",
   "execution_count": 90,
   "id": "ff3e4960-8b13-4c3a-a690-298da29be3f6",
   "metadata": {},
   "outputs": [],
   "source": [
    "network.to(local_rank)\n",
    "network.eval()\n",
    "with torch.no_grad():\n",
    "    y_true, y_pred = [], []\n",
    "    for i, batch in enumerate(test_loader):\n",
    "        x = batch['x'].float().to(local_rank)\n",
    "        y = batch['y'].to(local_rank)\n",
    "        logits = network(x)\n",
    "        y_true.append(y.long())\n",
    "        y_pred.append(logits)"
   ]
  },
  {
   "cell_type": "code",
   "execution_count": 91,
   "id": "adee6863-625e-4da5-a228-1d9668c26d6c",
   "metadata": {},
   "outputs": [],
   "source": [
    "y_true = torch.cat(y_true, dim=0)\n",
    "y_pred = torch.cat(y_pred, dim=0).to(torch.float32)"
   ]
  },
  {
   "cell_type": "code",
   "execution_count": 92,
   "id": "a46fef3d-9ed6-4b4a-9068-41f057b3b4d3",
   "metadata": {},
   "outputs": [],
   "source": [
    "preds = y_pred.softmax(1).cpu().numpy()\n",
    "preds_class = np.array([1 if p > 0.5 else 0 for p in preds[:, 1]])\n",
    "target = y_true.cpu().numpy()"
   ]
  },
  {
   "cell_type": "code",
   "execution_count": 93,
   "id": "61705703-8b9b-458d-b679-875c3f88b24f",
   "metadata": {},
   "outputs": [],
   "source": [
    "# torchmetrics\n",
    "from torchmetrics.functional.classification import accuracy, auroc\n",
    "from torchmetrics.functional.classification.f_beta import f1_score\n",
    "from torchmetrics.functional import precision, recall, confusion_matrix\n",
    "\n",
    "acc = accuracy(preds=y_pred.softmax(1), target=y_true)\n",
    "f1 = f1_score(preds=y_pred.softmax(1), target=y_true, average='micro', num_classes=2)\n",
    "auroc_ = auroc(preds=y_pred.softmax(1), target=y_true, num_classes=2)"
   ]
  },
  {
   "cell_type": "code",
   "execution_count": 94,
   "id": "b0199248-47c7-4ae1-831e-646e807d307e",
   "metadata": {},
   "outputs": [
    {
     "name": "stdout",
     "output_type": "stream",
     "text": [
      "accuracy:  tensor(0.6508, device='cuda:0')\n",
      "f1      :  tensor(0.6508, device='cuda:0')\n",
      "auroc   :  tensor(0.5895, device='cuda:0')\n"
     ]
    }
   ],
   "source": [
    "print('accuracy: ', acc)\n",
    "print('f1      : ', f1)\n",
    "print('auroc   : ', auroc_)"
   ]
  },
  {
   "cell_type": "code",
   "execution_count": 95,
   "id": "7c70d10c-ada3-492c-bb6d-d76656b04660",
   "metadata": {},
   "outputs": [
    {
     "data": {
      "text/plain": [
       "tensor([[63, 20],\n",
       "        [24, 19]], device='cuda:0')"
      ]
     },
     "execution_count": 95,
     "metadata": {},
     "output_type": "execute_result"
    }
   ],
   "source": [
    "confusion_matrix(y_pred, y_true, num_classes=2)"
   ]
  },
  {
   "cell_type": "code",
   "execution_count": 96,
   "id": "6a038bcd-c407-40a8-9e07-057bed75dbb4",
   "metadata": {},
   "outputs": [
    {
     "data": {
      "text/plain": [
       "tensor(0.4872, device='cuda:0')"
      ]
     },
     "execution_count": 96,
     "metadata": {},
     "output_type": "execute_result"
    }
   ],
   "source": [
    "precision(preds=y_pred.softmax(1)[:, 1], target=y_true)"
   ]
  },
  {
   "cell_type": "code",
   "execution_count": 97,
   "id": "b36b5a4f-33a1-46bb-ac53-a632edd64497",
   "metadata": {},
   "outputs": [
    {
     "data": {
      "text/plain": [
       "tensor(0.4419, device='cuda:0')"
      ]
     },
     "execution_count": 97,
     "metadata": {},
     "output_type": "execute_result"
    }
   ],
   "source": [
    "recall(preds=y_pred.softmax(1)[:, 1], target=y_true)"
   ]
  },
  {
   "cell_type": "code",
   "execution_count": 98,
   "id": "e178f9e6-540f-4820-aed5-9eecdd0aea87",
   "metadata": {},
   "outputs": [
    {
     "data": {
      "text/plain": [
       "array([[63, 20],\n",
       "       [24, 19]])"
      ]
     },
     "execution_count": 98,
     "metadata": {},
     "output_type": "execute_result"
    }
   ],
   "source": [
    "from sklearn.metrics import confusion_matrix, f1_score, accuracy_score, roc_auc_score, classification_report\n",
    "confusion_matrix(target, preds_class)"
   ]
  },
  {
   "cell_type": "code",
   "execution_count": 99,
   "id": "941395b0-db08-4341-b3a0-f3516fcc4563",
   "metadata": {},
   "outputs": [
    {
     "name": "stdout",
     "output_type": "stream",
     "text": [
      "              precision    recall  f1-score   support\n",
      "\n",
      "           0       0.72      0.76      0.74        83\n",
      "           1       0.49      0.44      0.46        43\n",
      "\n",
      "    accuracy                           0.65       126\n",
      "   macro avg       0.61      0.60      0.60       126\n",
      "weighted avg       0.64      0.65      0.65       126\n",
      "\n"
     ]
    }
   ],
   "source": [
    "print(classification_report(target, preds_class))"
   ]
  },
  {
   "cell_type": "code",
   "execution_count": 100,
   "id": "1a2b8b69-ab1b-4318-9e8d-3737c667a9c4",
   "metadata": {},
   "outputs": [
    {
     "data": {
      "text/plain": [
       "0.37209302325581395"
      ]
     },
     "execution_count": 100,
     "metadata": {},
     "output_type": "execute_result"
    }
   ],
   "source": [
    "16/43"
   ]
  },
  {
   "cell_type": "code",
   "execution_count": null,
   "id": "4d295b6f-84f5-48ae-9b78-d53ae24735ad",
   "metadata": {},
   "outputs": [],
   "source": []
  }
 ],
 "metadata": {
  "kernelspec": {
   "display_name": "Python 3 (ipykernel)",
   "language": "python",
   "name": "python3"
  },
  "language_info": {
   "codemirror_mode": {
    "name": "ipython",
    "version": 3
   },
   "file_extension": ".py",
   "mimetype": "text/x-python",
   "name": "python",
   "nbconvert_exporter": "python",
   "pygments_lexer": "ipython3",
   "version": "3.8.12"
  }
 },
 "nbformat": 4,
 "nbformat_minor": 5
}
