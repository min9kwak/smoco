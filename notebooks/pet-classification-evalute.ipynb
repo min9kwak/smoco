{
 "cells": [
  {
   "cell_type": "code",
   "execution_count": 1,
   "id": "a96befd0-e2e8-4f5d-8262-f7aed49a2b15",
   "metadata": {},
   "outputs": [],
   "source": [
    "import sys\n",
    "sys.path.append('../')"
   ]
  },
  {
   "cell_type": "code",
   "execution_count": 2,
   "id": "b534d002-9124-4b62-84f4-40f6ec3aab2b",
   "metadata": {},
   "outputs": [],
   "source": [
    "import os\n",
    "import sys\n",
    "import json\n",
    "import time\n",
    "import rich\n",
    "import numpy as np\n",
    "import pickle\n",
    "import wandb\n",
    "import tqdm\n",
    "\n",
    "import torch\n",
    "import torch.nn as nn\n",
    "import torch.nn.functional as F\n",
    "\n",
    "from configs.finetune import FinetuneConfig\n",
    "from tasks.classification import Classification\n",
    "\n",
    "from models.backbone.base import calculate_out_features\n",
    "from models.backbone.densenet import DenseNetBackbone\n",
    "from models.backbone.resnet import build_resnet_backbone\n",
    "from models.head.projector import MLPHead\n",
    "from models.head.classifier import LinearClassifier\n",
    "\n",
    "from datasets.brain import BrainProcessor, Brain, BrainMoCo\n",
    "from datasets.transforms import make_transforms, compute_statistics\n",
    "\n",
    "from utils.logging import get_rich_logger\n",
    "from utils.gpu import set_gpu"
   ]
  },
  {
   "cell_type": "code",
   "execution_count": 3,
   "id": "0a1abd6a-c709-41b7-8fe9-fc46d184fe83",
   "metadata": {},
   "outputs": [],
   "source": [
    "from easydict import EasyDict as edict\n",
    "from torch.utils.data import DataLoader\n",
    "from utils.metrics import classification_result\n",
    "\n",
    "import collections\n",
    "from sklearn.ensemble import GradientBoostingClassifier, RandomForestClassifier\n",
    "from sklearn.tree import DecisionTreeClassifier"
   ]
  },
  {
   "cell_type": "code",
   "execution_count": 4,
   "id": "b15f18fb-d44c-4193-8a85-4ebde5a27597",
   "metadata": {},
   "outputs": [],
   "source": [
    "@torch.no_grad()\n",
    "def evaluate_finetuned_model(data_loader, backbone, classifier, device, adjusted):\n",
    "   \n",
    "    backbone.to(device)\n",
    "    backbone.eval()\n",
    "    classifier.to(device)\n",
    "    classifier.eval()\n",
    "    \n",
    "    y_true, y_pred = [], []\n",
    "    for i, batch in enumerate(data_loader):\n",
    "        x = batch['x'].float().to(device)\n",
    "        y = batch['y'].to(device)\n",
    "        logits = classifier(backbone(x))\n",
    "        y_true.append(y.long())\n",
    "        y_pred.append(logits)\n",
    "    y_true = torch.cat(y_true, dim=0)\n",
    "    y_pred = torch.cat(y_pred, dim=0).to(torch.float32)\n",
    "    \n",
    "    clf_result = classification_result(y_true=y_true.cpu().numpy(),\n",
    "                                       y_pred=y_pred.softmax(1).cpu().numpy(),\n",
    "                                       adjusted=adjusted)\n",
    "    clf_result['y_true'] = y_true.cpu().numpy()\n",
    "    clf_result['y_pred'] = y_pred.softmax(1).cpu().numpy()\n",
    "    \n",
    "    backbone.to('cpu')\n",
    "    classifier.to('cpu')\n",
    "    \n",
    "    return clf_result"
   ]
  },
  {
   "cell_type": "code",
   "execution_count": 5,
   "id": "52241d3d-fd18-4d4e-8b61-38d7f9cba9a5",
   "metadata": {},
   "outputs": [],
   "source": [
    "hashs =[\"2022-07-01_06-45-52\", \"2022-07-01_06-19-43\", \"2022-07-01_05-52-53\", \"2022-07-01_05-27-16\", \"2022-07-01_05-02-03\", \"2022-07-01_04-36-14\", \"2022-07-01_04-11-23\", \"2022-07-01_03-45-52\", \"2022-07-01_03-20-04\", \"2022-07-01_02-54-33\"]"
   ]
  },
  {
   "cell_type": "code",
   "execution_count": 6,
   "id": "3e54f877-bb36-4fc4-a5ce-1385597fda2d",
   "metadata": {},
   "outputs": [],
   "source": [
    "gpus = ['30']\n",
    "server = 'workstation2'"
   ]
  },
  {
   "cell_type": "code",
   "execution_count": 7,
   "id": "ad28de0f-c6e9-4564-8d7f-4447e55f17ec",
   "metadata": {},
   "outputs": [],
   "source": [
    "hash = hashs[0]"
   ]
  },
  {
   "cell_type": "code",
   "execution_count": 15,
   "id": "9524d769-800d-475a-862c-f7c1922545fd",
   "metadata": {},
   "outputs": [
    {
     "name": "stderr",
     "output_type": "stream",
     "text": [
      "100%|██████████| 10/10 [01:28<00:00,  8.83s/it]\n"
     ]
    }
   ],
   "source": [
    "result_list = []\n",
    "result_adj_list = []\n",
    "\n",
    "for hash in tqdm.tqdm(hashs):\n",
    "\n",
    "    config = edict()\n",
    "    config.server = server\n",
    "    config.gpus = gpus\n",
    "    local_rank = 0\n",
    "\n",
    "    config.finetune_file = os.path.join(f'../checkpoints/pet/resnet/{hash}/ckpt.last.pth.tar')\n",
    "    finetune_config = os.path.join(f'../checkpoints/pet/resnet/{hash}/configs.json')\n",
    "    with open(finetune_config, 'rb') as fb:\n",
    "        finetune_config = json.load(fb)\n",
    "\n",
    "    finetune_config_names = [\n",
    "        # data_parser\n",
    "        'data_type', 'root', 'data_info', 'mci_only', 'n_splits', 'n_cv',\n",
    "        'image_size', 'small_kernel', 'random_state',\n",
    "        'intensity', 'crop', 'crop_size', 'rotate', 'flip', 'affine', 'blur', 'blur_std', 'prob',\n",
    "        # model_parser\n",
    "        'backbone_type', 'init_features', 'growth_rate', 'block_config', 'bn_size', 'dropout_rate',\n",
    "        'arch', 'no_max_pool',\n",
    "        # train\n",
    "        'batch_size',\n",
    "        # moco / supmoco\n",
    "        'alphas',\n",
    "        # others\n",
    "        'task', 'projector_dim'\n",
    "    ]\n",
    "\n",
    "    for name in finetune_config_names:\n",
    "        if name in finetune_config.keys():\n",
    "            setattr(config, name, finetune_config[name])\n",
    "\n",
    "    set_gpu(config)\n",
    "    np.random.seed(config.random_state)\n",
    "    torch.manual_seed(config.random_state)\n",
    "    torch.backends.cuda.matmul.allow_tf32 = True\n",
    "    torch.backends.cudnn.benchmark = True\n",
    "    torch.backends.cudnn.deterministic = False\n",
    "    torch.backends.cudnn.allow_tf32 = True\n",
    "    torch.cuda.set_device(local_rank)\n",
    "\n",
    "    # Networks\n",
    "    if config.backbone_type == 'densenet':\n",
    "        backbone = DenseNetBackbone(in_channels=1,\n",
    "                                    init_features=config.init_features,\n",
    "                                    growth_rate=config.growth_rate,\n",
    "                                    block_config=config.block_config,\n",
    "                                    bn_size=config.bn_size,\n",
    "                                    dropout_rate=config.dropout_rate,\n",
    "                                    semi=False)\n",
    "        activation = True\n",
    "    elif config.backbone_type == 'resnet':\n",
    "        backbone = build_resnet_backbone(arch=config.arch,\n",
    "                                         no_max_pool=config.no_max_pool,\n",
    "                                         in_channels=1,\n",
    "                                         semi=False)\n",
    "        activation = False\n",
    "    else:\n",
    "        raise NotImplementedError\n",
    "\n",
    "    if config.small_kernel:\n",
    "        backbone._fix_first_conv()\n",
    "\n",
    "    if config.crop:\n",
    "        out_dim = calculate_out_features(backbone=backbone, in_channels=1, image_size=config.crop_size)\n",
    "    else:\n",
    "        out_dim = calculate_out_features(backbone=backbone, in_channels=1, image_size=config.image_size)\n",
    "    classifier = LinearClassifier(in_channels=out_dim, num_classes=2, activation=activation)\n",
    "\n",
    "    backbone.load_weights_from_checkpoint(path=config.finetune_file, key='backbone')\n",
    "    classifier.load_weights_from_checkpoint(path=config.finetune_file, key='classifier')\n",
    "\n",
    "    # load finetune data\n",
    "    data_processor = BrainProcessor(root=config.root,\n",
    "                                    data_info=config.data_info,\n",
    "                                    data_type=config.data_type,\n",
    "                                    mci_only=config.mci_only,\n",
    "                                    random_state=config.random_state)\n",
    "    datasets = data_processor.process(n_splits=config.n_splits, n_cv=config.n_cv)\n",
    "\n",
    "    # intensity normalization\n",
    "    assert config.intensity in [None, 'scale', 'minmax']\n",
    "    mean_std, min_max = (None, None), (None, None)\n",
    "    if config.intensity is None:\n",
    "        pass\n",
    "    elif config.intensity == 'scale':\n",
    "        pass\n",
    "    elif config.intensity == 'minmax':\n",
    "        with open(os.path.join(config.root, 'labels/minmax.pkl'), 'rb') as fb:\n",
    "            minmax_stats = pickle.load(fb)\n",
    "            min_max = (minmax_stats[config.data_type]['min'], minmax_stats[config.data_type]['max'])\n",
    "    else:\n",
    "        raise NotImplementedError\n",
    "\n",
    "    train_transform, test_transform = make_transforms(image_size=config.image_size,\n",
    "                                                      intensity=config.intensity,\n",
    "                                                      mean_std=mean_std,\n",
    "                                                      min_max=min_max,\n",
    "                                                      crop=config.crop,\n",
    "                                                      crop_size=config.crop_size,\n",
    "                                                      rotate=config.rotate,\n",
    "                                                      flip=config.flip,\n",
    "                                                      affine=config.affine,\n",
    "                                                      blur=config.blur,\n",
    "                                                      blur_std=config.blur_std,\n",
    "                                                      prob=config.prob)\n",
    "\n",
    "    train_set = Brain(dataset=datasets['train'], data_type=config.data_type, transform=test_transform)\n",
    "    test_set = Brain(dataset=datasets['test'], data_type=config.data_type, transform=test_transform)\n",
    "\n",
    "    train_loader = DataLoader(dataset=train_set, batch_size=16, drop_last=False)\n",
    "    test_loader = DataLoader(dataset=test_set, batch_size=16, drop_last=False)\n",
    "\n",
    "    clf_result = evaluate_finetuned_model(test_loader, backbone, classifier, local_rank, False)\n",
    "    clf_result_adj = evaluate_finetuned_model(test_loader, backbone, classifier, local_rank, True)\n",
    "\n",
    "    result_list.append(clf_result)\n",
    "    result_adj_list.append(clf_result_adj)"
   ]
  },
  {
   "cell_type": "code",
   "execution_count": 16,
   "id": "c11b7ab9-0d57-4ffe-8ffe-b84550a6e155",
   "metadata": {},
   "outputs": [
    {
     "data": {
      "text/plain": [
       "acc      0.800276\n",
       "auroc    0.826641\n",
       "sens     0.641365\n",
       "spec     0.863746\n",
       "prec     0.623422\n",
       "f1       0.624594\n",
       "gmean    0.739130\n",
       "dtype: float64"
      ]
     },
     "execution_count": 16,
     "metadata": {},
     "output_type": "execute_result"
    }
   ],
   "source": [
    "import pandas as pd\n",
    "result_list = pd.DataFrame(result_list)\n",
    "result_list.drop(['y_true', 'y_pred'], axis=1).mean()"
   ]
  },
  {
   "cell_type": "code",
   "execution_count": 17,
   "id": "34f4652f-569a-40dd-884b-52c61de0f679",
   "metadata": {},
   "outputs": [
    {
     "data": {
      "text/plain": [
       "acc      0.787682\n",
       "auroc    0.826641\n",
       "sens     0.742389\n",
       "spec     0.800103\n",
       "prec     0.592215\n",
       "f1       0.655790\n",
       "gmean    0.769247\n",
       "dtype: float64"
      ]
     },
     "execution_count": 17,
     "metadata": {},
     "output_type": "execute_result"
    }
   ],
   "source": [
    "result_adj_list = pd.DataFrame(result_adj_list)\n",
    "result_adj_list.drop(['y_true', 'y_pred'], axis=1).mean()"
   ]
  },
  {
   "cell_type": "code",
   "execution_count": null,
   "id": "30c95437-d095-4470-91d3-a662783b638e",
   "metadata": {},
   "outputs": [],
   "source": []
  }
 ],
 "metadata": {
  "kernelspec": {
   "display_name": "Python 3 (ipykernel)",
   "language": "python",
   "name": "python3"
  },
  "language_info": {
   "codemirror_mode": {
    "name": "ipython",
    "version": 3
   },
   "file_extension": ".py",
   "mimetype": "text/x-python",
   "name": "python",
   "nbconvert_exporter": "python",
   "pygments_lexer": "ipython3",
   "version": "3.8.12"
  }
 },
 "nbformat": 4,
 "nbformat_minor": 5
}
