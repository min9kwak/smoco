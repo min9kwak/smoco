{
 "cells": [
  {
   "cell_type": "code",
   "execution_count": 1,
   "id": "8867b0ed-5e66-4b8a-9e38-1f68bd3f24a5",
   "metadata": {},
   "outputs": [
    {
     "name": "stdout",
     "output_type": "stream",
     "text": [
      "Wed Jul 27 12:54:21 2022       \n",
      "+-----------------------------------------------------------------------------+\n",
      "| NVIDIA-SMI 470.57.02    Driver Version: 470.57.02    CUDA Version: 11.4     |\n",
      "|-------------------------------+----------------------+----------------------+\n",
      "| GPU  Name        Persistence-M| Bus-Id        Disp.A | Volatile Uncorr. ECC |\n",
      "| Fan  Temp  Perf  Pwr:Usage/Cap|         Memory-Usage | GPU-Util  Compute M. |\n",
      "|                               |                      |               MIG M. |\n",
      "|===============================+======================+======================|\n",
      "|   0  Tesla V100-DGXS...  On   | 00000000:07:00.0 Off |                    0 |\n",
      "| N/A   58C    P0   238W / 300W |  21027MiB / 32505MiB |     83%      Default |\n",
      "|                               |                      |                  N/A |\n",
      "+-------------------------------+----------------------+----------------------+\n",
      "|   1  Tesla V100-DGXS...  On   | 00000000:08:00.0 Off |                    0 |\n",
      "| N/A   57C    P0   168W / 300W |  23994MiB / 32508MiB |     88%      Default |\n",
      "|                               |                      |                  N/A |\n",
      "+-------------------------------+----------------------+----------------------+\n",
      "|   2  Tesla V100-DGXS...  On   | 00000000:0E:00.0 Off |                    0 |\n",
      "| N/A   52C    P0    40W / 300W |     13MiB / 32508MiB |      0%      Default |\n",
      "|                               |                      |                  N/A |\n",
      "+-------------------------------+----------------------+----------------------+\n",
      "|   3  Tesla V100-DGXS...  On   | 00000000:0F:00.0 Off |                    0 |\n",
      "| N/A   52C    P0    42W / 300W |     13MiB / 32508MiB |      0%      Default |\n",
      "|                               |                      |                  N/A |\n",
      "+-------------------------------+----------------------+----------------------+\n",
      "                                                                               \n",
      "+-----------------------------------------------------------------------------+\n",
      "| Processes:                                                                  |\n",
      "|  GPU   GI   CI        PID   Type   Process name                  GPU Memory |\n",
      "|        ID   ID                                                   Usage      |\n",
      "|=============================================================================|\n",
      "+-----------------------------------------------------------------------------+\n"
     ]
    }
   ],
   "source": [
    "!nvidia-smi"
   ]
  },
  {
   "cell_type": "code",
   "execution_count": 2,
   "id": "4b963230-caf8-45bd-a724-6f7a2221076d",
   "metadata": {},
   "outputs": [],
   "source": [
    "import sys\n",
    "sys.path.append('../')"
   ]
  },
  {
   "cell_type": "code",
   "execution_count": 3,
   "id": "57bc59ea-cd6c-4ffd-a130-a461b1907bb2",
   "metadata": {},
   "outputs": [],
   "source": [
    "import os\n",
    "import sys\n",
    "import json\n",
    "import time\n",
    "import rich\n",
    "import numpy as np\n",
    "import pickle\n",
    "import wandb\n",
    "import tqdm\n",
    "\n",
    "import torch\n",
    "import torch.nn as nn\n",
    "import torch.nn.functional as F\n",
    "\n",
    "from configs.finetune import FinetuneConfig\n",
    "from tasks.classification import Classification\n",
    "\n",
    "from models.backbone.base import calculate_out_features\n",
    "from models.backbone.densenet import DenseNetBackbone\n",
    "from models.backbone.resnet import build_resnet_backbone\n",
    "from models.head.projector import MLPHead\n",
    "from models.head.classifier import LinearClassifier\n",
    "\n",
    "from datasets.brain import BrainProcessor, Brain, BrainMoCo\n",
    "from datasets.transforms import make_transforms, compute_statistics\n",
    "\n",
    "from utils.logging import get_rich_logger\n",
    "from utils.gpu import set_gpu\n",
    "\n",
    "from easydict import EasyDict as edict\n",
    "from torch.utils.data import DataLoader, Subset\n",
    "\n",
    "import matplotlib.pyplot as plt\n",
    "from matplotlib import colors\n",
    "\n",
    "from skimage.transform import resize"
   ]
  },
  {
   "cell_type": "code",
   "execution_count": 4,
   "id": "4826b240-fe6f-4f19-b051-9a983495c99c",
   "metadata": {},
   "outputs": [],
   "source": [
    "hashs =[(\"2022-07-02_08-00-31\", \"2022-07-03_13-41-32\"),\n",
    "        (\"2022-07-02_08-00-57\", \"2022-07-03_13-37-29\"),\n",
    "        (\"2022-07-02_09-38-52\", \"2022-07-03_13-33-23\"),\n",
    "        (\"2022-07-02_09-40-42\", \"2022-07-03_13-29-10\"),\n",
    "        (\"2022-07-02_11-17-38\", \"2022-07-03_13-25-05\"),\n",
    "        (\"2022-07-02_11-20-21\", \"2022-07-03_13-21-00\"),\n",
    "        (\"2022-07-02_17-15-14\", \"2022-07-03_13-16-54\"),\n",
    "        (\"2022-07-02_17-15-34\", \"2022-07-03_13-12-44\"),\n",
    "        (\"2022-07-02_18-53-46\", \"2022-07-03_13-08-35\"),\n",
    "        (\"2022-07-02_18-54-27\", \"2022-07-03_13-04-32\")]"
   ]
  },
  {
   "cell_type": "code",
   "execution_count": 5,
   "id": "0ff901a8-57f2-4e42-afc3-2583c4d94b1b",
   "metadata": {},
   "outputs": [],
   "source": [
    "gpus = ['3']\n",
    "server = 'dgx'\n",
    "hash = hashs[0]"
   ]
  },
  {
   "cell_type": "code",
   "execution_count": 6,
   "id": "000b5b46-025c-4a96-86f4-8bbb209761e6",
   "metadata": {},
   "outputs": [],
   "source": [
    "config = edict()\n",
    "config.server = server\n",
    "config.gpus = gpus\n",
    "local_rank = 0\n",
    "\n",
    "config.finetune_file = os.path.join(f'../checkpoints/pet-supmoco/resnet/{hash[0]}/finetune/{hash[1]}/ckpt.last.pth.tar')\n",
    "finetune_config = os.path.join(f'../checkpoints/pet-supmoco/resnet/{hash[0]}/finetune/{hash[1]}/configs.json')\n",
    "with open(finetune_config, 'rb') as fb:\n",
    "    finetune_config = json.load(fb)\n",
    "\n",
    "finetune_config_names = [\n",
    "    # data_parser\n",
    "    'data_type', 'root', 'data_info', 'mci_only', 'n_splits', 'n_cv',\n",
    "    'image_size', 'small_kernel', 'random_state',\n",
    "    'intensity', 'crop', 'crop_size', 'rotate', 'flip', 'affine', 'blur', 'blur_std', 'prob',\n",
    "    # model_parser\n",
    "    'backbone_type', 'init_features', 'growth_rate', 'block_config', 'bn_size', 'dropout_rate',\n",
    "    'arch', 'no_max_pool',\n",
    "    # train\n",
    "    'batch_size',\n",
    "    # moco / supmoco\n",
    "    'alphas',\n",
    "    # others\n",
    "    'task', 'projector_dim'\n",
    "]\n",
    "\n",
    "for name in finetune_config_names:\n",
    "    if name in finetune_config.keys():\n",
    "        setattr(config, name, finetune_config[name])"
   ]
  },
  {
   "cell_type": "code",
   "execution_count": 7,
   "id": "6d9e4422-5734-4179-9adb-bc3c79969a9b",
   "metadata": {},
   "outputs": [],
   "source": [
    "set_gpu(config)\n",
    "np.random.seed(config.random_state)\n",
    "torch.manual_seed(config.random_state)\n",
    "torch.backends.cuda.matmul.allow_tf32 = True\n",
    "torch.backends.cudnn.benchmark = True\n",
    "torch.backends.cudnn.deterministic = False\n",
    "torch.backends.cudnn.allow_tf32 = True\n",
    "torch.cuda.set_device(local_rank)\n",
    "\n",
    "# Networks\n",
    "if config.backbone_type == 'densenet':\n",
    "    backbone = DenseNetBackbone(in_channels=1,\n",
    "                                init_features=config.init_features,\n",
    "                                growth_rate=config.growth_rate,\n",
    "                                block_config=config.block_config,\n",
    "                                bn_size=config.bn_size,\n",
    "                                dropout_rate=config.dropout_rate,\n",
    "                                semi=False)\n",
    "    activation = True\n",
    "elif config.backbone_type == 'resnet':\n",
    "    backbone = build_resnet_backbone(arch=config.arch,\n",
    "                                     no_max_pool=config.no_max_pool,\n",
    "                                     in_channels=1,\n",
    "                                     semi=False)\n",
    "    activation = False\n",
    "else:\n",
    "    raise NotImplementedError\n",
    "\n",
    "if config.small_kernel:\n",
    "    backbone._fix_first_conv()\n",
    "\n",
    "if config.crop:\n",
    "    out_dim = calculate_out_features(backbone=backbone, in_channels=1, image_size=config.crop_size)\n",
    "else:\n",
    "    out_dim = calculate_out_features(backbone=backbone, in_channels=1, image_size=config.image_size)\n",
    "classifier = LinearClassifier(in_channels=out_dim, num_classes=2, activation=activation)\n",
    "\n",
    "backbone.load_weights_from_checkpoint(path=config.finetune_file, key='backbone')\n",
    "classifier.load_weights_from_checkpoint(path=config.finetune_file, key='classifier')\n",
    "\n",
    "# load finetune data\n",
    "data_processor = BrainProcessor(root=config.root,\n",
    "                                data_info=config.data_info,\n",
    "                                data_type=config.data_type,\n",
    "                                mci_only=config.mci_only,\n",
    "                                random_state=config.random_state)\n",
    "datasets = data_processor.process(n_splits=config.n_splits, n_cv=config.n_cv)\n",
    "\n",
    "# intensity normalization\n",
    "assert config.intensity in [None, 'scale', 'minmax']\n",
    "mean_std, min_max = (None, None), (None, None)\n",
    "if config.intensity is None:\n",
    "    pass\n",
    "elif config.intensity == 'scale':\n",
    "    pass\n",
    "elif config.intensity == 'minmax':\n",
    "    with open(os.path.join(config.root, 'labels/minmax.pkl'), 'rb') as fb:\n",
    "        minmax_stats = pickle.load(fb)\n",
    "        min_max = (minmax_stats[config.data_type]['min'], minmax_stats[config.data_type]['max'])\n",
    "else:\n",
    "    raise NotImplementedError\n",
    "\n",
    "train_transform, test_transform = make_transforms(image_size=config.image_size,\n",
    "                                                  intensity=config.intensity,\n",
    "                                                  mean_std=mean_std,\n",
    "                                                  min_max=min_max,\n",
    "                                                  crop=config.crop,\n",
    "                                                  crop_size=config.crop_size,\n",
    "                                                  rotate=config.rotate,\n",
    "                                                  flip=config.flip,\n",
    "                                                  affine=config.affine,\n",
    "                                                  blur=config.blur,\n",
    "                                                  blur_std=config.blur_std,\n",
    "                                                  prob=config.prob)\n",
    "\n",
    "train_set = Brain(dataset=datasets['train'], data_type=config.data_type, transform=test_transform)\n",
    "test_set = Brain(dataset=datasets['test'], data_type=config.data_type, transform=test_transform)\n",
    "\n",
    "train_loader = DataLoader(dataset=train_set, batch_size=16, drop_last=False)\n",
    "test_loader = DataLoader(dataset=test_set, batch_size=16, drop_last=False)"
   ]
  },
  {
   "cell_type": "code",
   "execution_count": 10,
   "id": "b9b6a1d2-0ad6-4a30-9472-4bcb58406aa6",
   "metadata": {},
   "outputs": [],
   "source": [
    "total_set = {'mri': datasets['train']['mri'] + datasets['u_train']['mri'],\n",
    "             'pet': datasets['train']['pet'] + datasets['u_train']['pet'],\n",
    "             'y': np.concatenate([datasets['train']['y'], datasets['u_train']['y']])}\n",
    "total_set = Brain(dataset=total_set, data_type=config.data_type, transform=test_transform)\n",
    "total_loader = DataLoader(dataset=total_set, batch_size=16, drop_last=False)"
   ]
  },
  {
   "cell_type": "code",
   "execution_count": 11,
   "id": "4b0ca87d-d67e-4501-9020-54cd576d1120",
   "metadata": {},
   "outputs": [],
   "source": [
    "@torch.no_grad()\n",
    "def extract_features(data_loader, encoder: nn.Module, projector: nn.Module, device: int):\n",
    "    \n",
    "    encoder.to(device)\n",
    "    encoder.eval()\n",
    "    \n",
    "    \n",
    "    \n",
    "    Z = []\n",
    "    y = []\n",
    "    for i, batch in enumerate(data_loader):\n",
    "        x = batch['x'].to(device)\n",
    "        z = encoder(x)        \n",
    "        Z += [z]\n",
    "        y += [batch['y'].to(device)]\n",
    "        \n",
    "    encoder.to('cpu')\n",
    "    \n",
    "    Z = torch.cat(Z, dim=0)\n",
    "    y = torch.cat(y, dim=0)\n",
    "    \n",
    "    return Z, y"
   ]
  },
  {
   "cell_type": "code",
   "execution_count": 13,
   "id": "fd754a1f-0fd7-4406-b594-fac948e3d90d",
   "metadata": {},
   "outputs": [],
   "source": [
    "Z, Y = extract_features(total_loader, backbone, 0)"
   ]
  },
  {
   "cell_type": "code",
   "execution_count": 14,
   "id": "cea24d42-2066-4b3f-a6c0-ddd6865b3ff3",
   "metadata": {},
   "outputs": [],
   "source": [
    "Z = nn.AdaptiveAvgPool3d(1)(Z)"
   ]
  },
  {
   "cell_type": "code",
   "execution_count": 15,
   "id": "50caabeb-cd59-4024-a4fb-1fe37d25c210",
   "metadata": {},
   "outputs": [],
   "source": [
    "Z = np.squeeze(Z)"
   ]
  },
  {
   "cell_type": "code",
   "execution_count": 16,
   "id": "251901a5-2360-4d3d-bf73-2d6318f6df4a",
   "metadata": {},
   "outputs": [
    {
     "data": {
      "text/plain": [
       "torch.Size([984, 2048])"
      ]
     },
     "execution_count": 16,
     "metadata": {},
     "output_type": "execute_result"
    }
   ],
   "source": [
    "Z.shape"
   ]
  },
  {
   "cell_type": "code",
   "execution_count": 17,
   "id": "72e584ba-629d-4fdc-8e24-4df7a7ef498d",
   "metadata": {},
   "outputs": [],
   "source": [
    "import umap.umap_ as umap"
   ]
  },
  {
   "cell_type": "code",
   "execution_count": 24,
   "id": "5e376740-5559-45f2-b9f9-7954d70970e6",
   "metadata": {},
   "outputs": [
    {
     "ename": "AttributeError",
     "evalue": "'numpy.ndarray' object has no attribute 'detach'",
     "output_type": "error",
     "traceback": [
      "\u001b[0;31m---------------------------------------------------------------------------\u001b[0m",
      "\u001b[0;31mAttributeError\u001b[0m                            Traceback (most recent call last)",
      "\u001b[0;32m/tmp/ipykernel_3553022/1083052546.py\u001b[0m in \u001b[0;36m<module>\u001b[0;34m\u001b[0m\n\u001b[0;32m----> 1\u001b[0;31m \u001b[0mZ\u001b[0m \u001b[0;34m=\u001b[0m \u001b[0mZ\u001b[0m\u001b[0;34m.\u001b[0m\u001b[0mdetach\u001b[0m\u001b[0;34m(\u001b[0m\u001b[0;34m)\u001b[0m\u001b[0;34m.\u001b[0m\u001b[0mcpu\u001b[0m\u001b[0;34m(\u001b[0m\u001b[0;34m)\u001b[0m\u001b[0;34m.\u001b[0m\u001b[0mnumpy\u001b[0m\u001b[0;34m(\u001b[0m\u001b[0;34m)\u001b[0m\u001b[0;34m\u001b[0m\u001b[0;34m\u001b[0m\u001b[0m\n\u001b[0m\u001b[1;32m      2\u001b[0m \u001b[0mY\u001b[0m \u001b[0;34m=\u001b[0m \u001b[0mY\u001b[0m\u001b[0;34m.\u001b[0m\u001b[0mdetach\u001b[0m\u001b[0;34m(\u001b[0m\u001b[0;34m)\u001b[0m\u001b[0;34m.\u001b[0m\u001b[0mcpu\u001b[0m\u001b[0;34m(\u001b[0m\u001b[0;34m)\u001b[0m\u001b[0;34m.\u001b[0m\u001b[0mnumpy\u001b[0m\u001b[0;34m(\u001b[0m\u001b[0;34m)\u001b[0m\u001b[0;34m\u001b[0m\u001b[0;34m\u001b[0m\u001b[0m\n",
      "\u001b[0;31mAttributeError\u001b[0m: 'numpy.ndarray' object has no attribute 'detach'"
     ]
    }
   ],
   "source": [
    "Z = Z.detach().cpu().numpy()\n",
    "Y = Y.detach().cpu().numpy()"
   ]
  },
  {
   "cell_type": "code",
   "execution_count": 31,
   "id": "305e4636-9422-47a0-85ef-6d4c369b0c00",
   "metadata": {},
   "outputs": [],
   "source": [
    "reducer = umap.UMAP(n_neighbors=15, min_dist=0.1)"
   ]
  },
  {
   "cell_type": "code",
   "execution_count": 32,
   "id": "ed4c8390-1212-4b08-aed0-f61d61e3824f",
   "metadata": {},
   "outputs": [],
   "source": [
    "embedding = reducer.fit_transform(Z)"
   ]
  },
  {
   "cell_type": "code",
   "execution_count": 37,
   "id": "f1565e44-6f7d-4616-985c-6ad5165b6759",
   "metadata": {},
   "outputs": [
    {
     "data": {
      "image/png": "[encoded data removed]",
      "text/plain": [
       "<Figure size 576x432 with 1 Axes>"
      ]
     },
     "metadata": {
      "needs_background": "light"
     },
     "output_type": "display_data"
    }
   ],
   "source": [
    "classes = [-1, 0, 1]\n",
    "colors = ['grey', 'blue', 'red']\n",
    "plt.figure(figsize=(8, 6))\n",
    "for c, color in zip(classes, colors):\n",
    "    plt.scatter(embedding[Y==c, 0], embedding[Y==c, 1], s=8, color=colors[c+1])\n",
    "plt.show()"
   ]
  },
  {
   "cell_type": "code",
   "execution_count": 72,
   "id": "bdbcedb7-e9d1-4b8c-8207-40d52d833a27",
   "metadata": {},
   "outputs": [
    {
     "data": {
      "text/plain": [
       "array([0, 0, 0, 0, 1, 0, 0, 0, 0, 0, 1, 0, 0, 0, 1, 0, 0, 0, 0, 1, 0, 0,\n",
       "       0, 0, 0, 0, 1, 0, 0, 1, 0, 0, 0, 0, 0, 0, 0, 0, 1, 1, 1, 0, 1, 1,\n",
       "       0, 1, 1, 0, 0, 0, 0, 0, 1, 1, 0, 0])"
      ]
     },
     "execution_count": 72,
     "metadata": {},
     "output_type": "execute_result"
    }
   ],
   "source": [
    "Y"
   ]
  },
  {
   "cell_type": "code",
   "execution_count": null,
   "id": "173c4f46-a975-49c9-ac66-d690faeb6b5a",
   "metadata": {},
   "outputs": [],
   "source": []
  },
  {
   "cell_type": "code",
   "execution_count": null,
   "id": "107b9c30-63d2-40c0-8d0e-3acf408a79ed",
   "metadata": {},
   "outputs": [],
   "source": []
  },
  {
   "cell_type": "code",
   "execution_count": 60,
   "id": "02834b64-6c95-4a75-af8e-7871285bcca0",
   "metadata": {},
   "outputs": [
    {
     "ename": "TypeError",
     "evalue": "can't convert cuda:0 device type tensor to numpy. Use Tensor.cpu() to copy the tensor to host memory first.",
     "output_type": "error",
     "traceback": [
      "\u001b[0;31m---------------------------------------------------------------------------\u001b[0m",
      "\u001b[0;31mTypeError\u001b[0m                                 Traceback (most recent call last)",
      "\u001b[0;32m/tmp/ipykernel_3552742/2779101697.py\u001b[0m in \u001b[0;36m<module>\u001b[0;34m\u001b[0m\n\u001b[1;32m      1\u001b[0m \u001b[0mplt\u001b[0m\u001b[0;34m.\u001b[0m\u001b[0mfigure\u001b[0m\u001b[0;34m(\u001b[0m\u001b[0mfigsize\u001b[0m\u001b[0;34m=\u001b[0m\u001b[0;34m(\u001b[0m\u001b[0;36m8\u001b[0m\u001b[0;34m,\u001b[0m \u001b[0;36m8\u001b[0m\u001b[0;34m)\u001b[0m\u001b[0;34m)\u001b[0m\u001b[0;34m\u001b[0m\u001b[0;34m\u001b[0m\u001b[0m\n\u001b[0;32m----> 2\u001b[0;31m \u001b[0mplt\u001b[0m\u001b[0;34m.\u001b[0m\u001b[0mscatter\u001b[0m\u001b[0;34m(\u001b[0m\u001b[0membedding\u001b[0m\u001b[0;34m[\u001b[0m\u001b[0mY\u001b[0m\u001b[0;34m.\u001b[0m\u001b[0mcpu\u001b[0m\u001b[0;34m(\u001b[0m\u001b[0;34m)\u001b[0m\u001b[0;34m.\u001b[0m\u001b[0mnumpy\u001b[0m\u001b[0;34m(\u001b[0m\u001b[0;34m)\u001b[0m\u001b[0;34m==\u001b[0m\u001b[0;36m0\u001b[0m\u001b[0;34m,\u001b[0m \u001b[0;36m0\u001b[0m\u001b[0;34m]\u001b[0m\u001b[0;34m,\u001b[0m \u001b[0membedding\u001b[0m\u001b[0;34m[\u001b[0m\u001b[0mY\u001b[0m\u001b[0;34m.\u001b[0m\u001b[0mcpu\u001b[0m\u001b[0;34m(\u001b[0m\u001b[0;34m)\u001b[0m\u001b[0;34m.\u001b[0m\u001b[0mnumpy\u001b[0m\u001b[0;34m(\u001b[0m\u001b[0;34m)\u001b[0m\u001b[0;34m==\u001b[0m\u001b[0;36m0\u001b[0m\u001b[0;34m,\u001b[0m \u001b[0;36m1\u001b[0m\u001b[0;34m]\u001b[0m\u001b[0;34m,\u001b[0m \u001b[0mc\u001b[0m\u001b[0;34m=\u001b[0m\u001b[0mY\u001b[0m\u001b[0;34m.\u001b[0m\u001b[0mcpu\u001b[0m\u001b[0;34m(\u001b[0m\u001b[0;34m)\u001b[0m\u001b[0;34m.\u001b[0m\u001b[0mnumpy\u001b[0m\u001b[0;34m(\u001b[0m\u001b[0;34m)\u001b[0m\u001b[0;34m[\u001b[0m\u001b[0mY\u001b[0m\u001b[0;34m==\u001b[0m\u001b[0;36m0\u001b[0m\u001b[0;34m]\u001b[0m\u001b[0;34m,\u001b[0m \u001b[0ms\u001b[0m\u001b[0;34m=\u001b[0m\u001b[0;36m8\u001b[0m\u001b[0;34m,\u001b[0m \u001b[0mcolor\u001b[0m\u001b[0;34m=\u001b[0m\u001b[0;34m'grey'\u001b[0m\u001b[0;34m)\u001b[0m\u001b[0;34m\u001b[0m\u001b[0;34m\u001b[0m\u001b[0m\n\u001b[0m\u001b[1;32m      3\u001b[0m \u001b[0mplt\u001b[0m\u001b[0;34m.\u001b[0m\u001b[0mscatter\u001b[0m\u001b[0;34m(\u001b[0m\u001b[0membedding\u001b[0m\u001b[0;34m[\u001b[0m\u001b[0mY\u001b[0m\u001b[0;34m.\u001b[0m\u001b[0mcpu\u001b[0m\u001b[0;34m(\u001b[0m\u001b[0;34m)\u001b[0m\u001b[0;34m.\u001b[0m\u001b[0mnumpy\u001b[0m\u001b[0;34m(\u001b[0m\u001b[0;34m)\u001b[0m\u001b[0;34m==\u001b[0m\u001b[0;36m1\u001b[0m\u001b[0;34m,\u001b[0m \u001b[0;36m0\u001b[0m\u001b[0;34m]\u001b[0m\u001b[0;34m,\u001b[0m \u001b[0membedding\u001b[0m\u001b[0;34m[\u001b[0m\u001b[0mY\u001b[0m\u001b[0;34m.\u001b[0m\u001b[0mcpu\u001b[0m\u001b[0;34m(\u001b[0m\u001b[0;34m)\u001b[0m\u001b[0;34m.\u001b[0m\u001b[0mnumpy\u001b[0m\u001b[0;34m(\u001b[0m\u001b[0;34m)\u001b[0m\u001b[0;34m==\u001b[0m\u001b[0;36m1\u001b[0m\u001b[0;34m,\u001b[0m \u001b[0;36m1\u001b[0m\u001b[0;34m]\u001b[0m\u001b[0;34m,\u001b[0m \u001b[0mc\u001b[0m\u001b[0;34m=\u001b[0m\u001b[0mY\u001b[0m\u001b[0;34m.\u001b[0m\u001b[0mcpu\u001b[0m\u001b[0;34m(\u001b[0m\u001b[0;34m)\u001b[0m\u001b[0;34m.\u001b[0m\u001b[0mnumpy\u001b[0m\u001b[0;34m(\u001b[0m\u001b[0;34m)\u001b[0m\u001b[0;34m[\u001b[0m\u001b[0mY\u001b[0m\u001b[0;34m==\u001b[0m\u001b[0;36m1\u001b[0m\u001b[0;34m]\u001b[0m\u001b[0;34m,\u001b[0m \u001b[0ms\u001b[0m\u001b[0;34m=\u001b[0m\u001b[0;36m8\u001b[0m\u001b[0;34m,\u001b[0m \u001b[0mcolor\u001b[0m\u001b[0;34m=\u001b[0m\u001b[0;34m'red'\u001b[0m\u001b[0;34m)\u001b[0m\u001b[0;34m\u001b[0m\u001b[0;34m\u001b[0m\u001b[0m\n\u001b[1;32m      4\u001b[0m \u001b[0mplt\u001b[0m\u001b[0;34m.\u001b[0m\u001b[0mtitle\u001b[0m\u001b[0;34m(\u001b[0m\u001b[0;34m'Testing'\u001b[0m\u001b[0;34m,\u001b[0m \u001b[0mfontsize\u001b[0m\u001b[0;34m=\u001b[0m\u001b[0;36m24\u001b[0m\u001b[0;34m)\u001b[0m\u001b[0;34m\u001b[0m\u001b[0;34m\u001b[0m\u001b[0m\n\u001b[1;32m      5\u001b[0m \u001b[0mplt\u001b[0m\u001b[0;34m.\u001b[0m\u001b[0mshow\u001b[0m\u001b[0;34m(\u001b[0m\u001b[0;34m)\u001b[0m\u001b[0;34m\u001b[0m\u001b[0;34m\u001b[0m\u001b[0m\n",
      "\u001b[0;32m/opt/conda/lib/python3.8/site-packages/torch/_tensor.py\u001b[0m in \u001b[0;36m__array__\u001b[0;34m(self, dtype)\u001b[0m\n\u001b[1;32m    730\u001b[0m             \u001b[0;32mreturn\u001b[0m \u001b[0mhandle_torch_function\u001b[0m\u001b[0;34m(\u001b[0m\u001b[0mTensor\u001b[0m\u001b[0;34m.\u001b[0m\u001b[0m__array__\u001b[0m\u001b[0;34m,\u001b[0m \u001b[0;34m(\u001b[0m\u001b[0mself\u001b[0m\u001b[0;34m,\u001b[0m\u001b[0;34m)\u001b[0m\u001b[0;34m,\u001b[0m \u001b[0mself\u001b[0m\u001b[0;34m,\u001b[0m \u001b[0mdtype\u001b[0m\u001b[0;34m=\u001b[0m\u001b[0mdtype\u001b[0m\u001b[0;34m)\u001b[0m\u001b[0;34m\u001b[0m\u001b[0;34m\u001b[0m\u001b[0m\n\u001b[1;32m    731\u001b[0m         \u001b[0;32mif\u001b[0m \u001b[0mdtype\u001b[0m \u001b[0;32mis\u001b[0m \u001b[0;32mNone\u001b[0m\u001b[0;34m:\u001b[0m\u001b[0;34m\u001b[0m\u001b[0;34m\u001b[0m\u001b[0m\n\u001b[0;32m--> 732\u001b[0;31m             \u001b[0;32mreturn\u001b[0m \u001b[0mself\u001b[0m\u001b[0;34m.\u001b[0m\u001b[0mnumpy\u001b[0m\u001b[0;34m(\u001b[0m\u001b[0;34m)\u001b[0m\u001b[0;34m\u001b[0m\u001b[0;34m\u001b[0m\u001b[0m\n\u001b[0m\u001b[1;32m    733\u001b[0m         \u001b[0;32melse\u001b[0m\u001b[0;34m:\u001b[0m\u001b[0;34m\u001b[0m\u001b[0;34m\u001b[0m\u001b[0m\n\u001b[1;32m    734\u001b[0m             \u001b[0;32mreturn\u001b[0m \u001b[0mself\u001b[0m\u001b[0;34m.\u001b[0m\u001b[0mnumpy\u001b[0m\u001b[0;34m(\u001b[0m\u001b[0;34m)\u001b[0m\u001b[0;34m.\u001b[0m\u001b[0mastype\u001b[0m\u001b[0;34m(\u001b[0m\u001b[0mdtype\u001b[0m\u001b[0;34m,\u001b[0m \u001b[0mcopy\u001b[0m\u001b[0;34m=\u001b[0m\u001b[0;32mFalse\u001b[0m\u001b[0;34m)\u001b[0m\u001b[0;34m\u001b[0m\u001b[0;34m\u001b[0m\u001b[0m\n",
      "\u001b[0;31mTypeError\u001b[0m: can't convert cuda:0 device type tensor to numpy. Use Tensor.cpu() to copy the tensor to host memory first."
     ]
    },
    {
     "data": {
      "text/plain": [
       "<Figure size 576x576 with 0 Axes>"
      ]
     },
     "metadata": {},
     "output_type": "display_data"
    }
   ],
   "source": [
    "plt.figure(figsize=(8, 8))\n",
    "plt.scatter(embedding[Y.cpu().numpy()==0, 0], embedding[Y.cpu().numpy()==0, 1], c=Y.cpu().numpy()[Y==0], s=8, color='grey')\n",
    "plt.scatter(embedding[Y.cpu().numpy()==1, 0], embedding[Y.cpu().numpy()==1, 1], c=Y.cpu().numpy()[Y==1], s=8, color='red')\n",
    "plt.title('Testing', fontsize=24)\n",
    "plt.show()"
   ]
  },
  {
   "cell_type": "code",
   "execution_count": null,
   "id": "84b1367a-d716-49ea-ba1a-3d804aaf9af7",
   "metadata": {},
   "outputs": [],
   "source": []
  },
  {
   "cell_type": "code",
   "execution_count": null,
   "id": "8d34b82d-7726-4a43-bf52-62c1a661a7b1",
   "metadata": {},
   "outputs": [],
   "source": []
  },
  {
   "cell_type": "code",
   "execution_count": null,
   "id": "23beca28-7577-4ebe-bc7a-f80c20910915",
   "metadata": {},
   "outputs": [],
   "source": []
  },
  {
   "cell_type": "code",
   "execution_count": null,
   "id": "a53903d7-f694-4406-b56e-e6db218a1b93",
   "metadata": {},
   "outputs": [],
   "source": []
  },
  {
   "cell_type": "code",
   "execution_count": null,
   "id": "0d0cc693-d257-4906-a72a-5d5d73fdb7be",
   "metadata": {},
   "outputs": [],
   "source": []
  },
  {
   "cell_type": "code",
   "execution_count": null,
   "id": "8a0d728f-6766-4207-9651-e801eb205718",
   "metadata": {},
   "outputs": [],
   "source": []
  },
  {
   "cell_type": "code",
   "execution_count": null,
   "id": "df8673aa-3d3b-418c-b753-5aeb301e17fc",
   "metadata": {},
   "outputs": [],
   "source": []
  },
  {
   "cell_type": "code",
   "execution_count": null,
   "id": "51d603fd-334d-4125-9183-f4488f103cdc",
   "metadata": {},
   "outputs": [],
   "source": []
  },
  {
   "cell_type": "code",
   "execution_count": null,
   "id": "fa7d553e-ddc8-4e20-a890-635fa78476c7",
   "metadata": {},
   "outputs": [],
   "source": [
    "from utils.metrics import classification_result"
   ]
  },
  {
   "cell_type": "code",
   "execution_count": null,
   "id": "5c6e0181-3519-4222-9c8b-65e7ca775289",
   "metadata": {},
   "outputs": [],
   "source": [
    "@torch.no_grad()\n",
    "def evaluate(model, data_loader, local_rank=0, adjusted=False):\n",
    "    \"\"\"Evaluation defined for a single epoch.\"\"\"\n",
    "\n",
    "    steps = len(data_loader)\n",
    "    model.backbone.eval()\n",
    "    model.classifier.eval()\n",
    "    y_true, y_pred = [], []\n",
    "    for i, batch in enumerate(data_loader):\n",
    "        x = batch['x'].float().to(local_rank)\n",
    "        y = batch['y'].to(local_rank)\n",
    "        logits = model(x)        \n",
    "        y_true.append(y.long())\n",
    "        y_pred.append(logits)\n",
    "\n",
    "    # accuracy and macro f1 score\n",
    "    y_true = torch.cat(y_true, dim=0)\n",
    "    y_pred = torch.cat(y_pred, dim=0).to(torch.float32)\n",
    "\n",
    "    clf_result = classification_result(y_true=y_true.cpu().numpy(),\n",
    "                                       y_pred=y_pred.softmax(1).detach().cpu().numpy(),\n",
    "                                       adjusted=adjusted)\n",
    "    result = {}\n",
    "    for k, v in clf_result.items():\n",
    "        result[k] = v\n",
    "\n",
    "    return result"
   ]
  },
  {
   "cell_type": "code",
   "execution_count": null,
   "id": "d3ff3181-bdae-4c63-82fb-903f95e6b7b5",
   "metadata": {},
   "outputs": [],
   "source": [
    "eval_result = evaluate(model=model, data_loader=test_loader, local_rank=0, adjusted=True)\n",
    "print(eval_result)"
   ]
  },
  {
   "cell_type": "code",
   "execution_count": null,
   "id": "9d83e138-c07a-4201-a240-f7af5e87e943",
   "metadata": {},
   "outputs": [],
   "source": [
    "@torch.no_grad()\n",
    "def sample_prediction(model, data_loader, local_rank=0, adjusted=False):\n",
    "    \"\"\"Evaluation defined for a single epoch.\"\"\"\n",
    "\n",
    "    steps = len(data_loader)\n",
    "    model.backbone.eval()\n",
    "    model.classifier.eval()\n",
    "    y_true, y_pred = [], []\n",
    "    idx = []\n",
    "    for i, batch in enumerate(data_loader):\n",
    "        x = batch['x'].float().to(local_rank)\n",
    "        y = batch['y'].to(local_rank)\n",
    "        \n",
    "        logits = model(x)        \n",
    "        y_true.append(y.long())\n",
    "        y_pred.append(logits)\n",
    "        idx.append(batch['idx'])\n",
    "\n",
    "    # accuracy and macro f1 score\n",
    "    y_true = torch.cat(y_true, dim=0)\n",
    "    y_pred = torch.cat(y_pred, dim=0).to(torch.float32)\n",
    "    idx = torch.cat(idx, dim=0)\n",
    "    return y_true, y_pred, idx"
   ]
  },
  {
   "cell_type": "code",
   "execution_count": null,
   "id": "91753a39-8e2a-4d0f-aed3-4f283bc28ce6",
   "metadata": {},
   "outputs": [],
   "source": [
    "y_true, y_pred, idx = sample_prediction(model, test_loader)"
   ]
  },
  {
   "cell_type": "code",
   "execution_count": null,
   "id": "df5c62eb-9672-475e-b53f-99c1933118e4",
   "metadata": {},
   "outputs": [],
   "source": [
    "pmci_idx, smci_idx = [], []\n",
    "for t, p, i in zip(y_true, y_pred.softmax(1), idx):\n",
    "    if torch.argmax(p) == t:\n",
    "        if t == 0:\n",
    "            if p[t].item() > 0.95:\n",
    "                smci_idx.append(i.item())\n",
    "        if t == 1:\n",
    "            if p[t].item() > 0.95:\n",
    "                pmci_idx.append(i.item())"
   ]
  },
  {
   "cell_type": "code",
   "execution_count": null,
   "id": "200d71da-e436-4d3f-918d-49f1fbbcdcae",
   "metadata": {},
   "outputs": [],
   "source": [
    "def get_map(data, target_layer, model, local_rank):\n",
    "    \n",
    "    model.eval()\n",
    "    \n",
    "    gcam = GradCAMpp(model, target_layer)\n",
    "    guided = GuidedBackpropGrad(model)\n",
    "    \n",
    "    # predict\n",
    "    x = torch.as_tensor(data['x'][None].to(local_rank))        \n",
    "    pred_logits = model(x)\n",
    "    model.zero_grad()\n",
    "    \n",
    "    pred_label = pred_logits.argmax(dim=1).item()\n",
    "    pred_prob = torch.nn.functional.softmax(pred_logits, dim=1)[0, pred_label].item() * 100\n",
    "\n",
    "    title = f\"Pred: {pred_label} ({pred_prob:.2f}%) | True: {data['y']}\"\n",
    "\n",
    "    # image\n",
    "    img = torch.moveaxis(x, 1, -1)\n",
    "\n",
    "    # gradcam\n",
    "    gcam_map = gcam(x=x, class_idx=pred_label)[0]\n",
    "    model.zero_grad()\n",
    "\n",
    "    # guided\n",
    "    guided_map = guided(x)\n",
    "    model.zero_grad()\n",
    "    guided_map = torch.sum(guided_map ** 2, dim=1) ** 0.5\n",
    "    \n",
    "    # shape\n",
    "    img = img.cpu().detach().numpy()\n",
    "    img = np.squeeze(img)\n",
    "    \n",
    "    gcam_map = gcam_map.cpu().detach().numpy()\n",
    "    gcam_map = np.squeeze(gcam_map)\n",
    "    \n",
    "    guided_map = guided_map.cpu().detach().numpy()\n",
    "    guided_map = np.squeeze(guided_map)\n",
    "    \n",
    "    return img, gcam_map, guided_map, title"
   ]
  },
  {
   "cell_type": "code",
   "execution_count": null,
   "id": "cd3b9563-90d0-459d-b2c3-08c1cffd292a",
   "metadata": {},
   "outputs": [],
   "source": [
    "_, orig_transform = make_transforms(image_size=145, intensity=None, mean_std=mean_std, min_max=min_max, crop=False, rotate=config.rotate,\n",
    "                                    flip=config.flip, affine=config.affine, blur=config.blur, blur_std=config.blur_std, prob=config.prob)\n",
    "orig_set = Brain(dataset=datasets['test'], data_type=config.data_type, transform=orig_transform)\n",
    "pmci_orig_set = np.array(Subset(orig_set, pmci_idx))\n",
    "smci_orig_set = np.array(Subset(orig_set, smci_idx))"
   ]
  },
  {
   "cell_type": "code",
   "execution_count": null,
   "id": "30a1f34b-b340-41bb-ad94-1ae79c5885ae",
   "metadata": {},
   "outputs": [],
   "source": [
    "# pmci\n",
    "pmci_set = np.array(Subset(test_set, pmci_idx))\n",
    "smci_set = np.array(Subset(test_set, smci_idx))"
   ]
  },
  {
   "cell_type": "code",
   "execution_count": null,
   "id": "6222b59f-3662-471c-850b-ceebea9bffd5",
   "metadata": {},
   "outputs": [],
   "source": [
    "i = 0\n",
    "vmin = 0.4\n",
    "loc1 = 80\n",
    "loc2 = 60\n",
    "loc3 = 100"
   ]
  },
  {
   "cell_type": "code",
   "execution_count": null,
   "id": "ccd4918d-1c61-4146-80e8-776849d44709",
   "metadata": {},
   "outputs": [],
   "source": [
    "i = 3\n",
    "vmin = 0.3\n",
    "loc1 = 80\n",
    "loc2 = 60\n",
    "loc3 = 100"
   ]
  },
  {
   "cell_type": "code",
   "execution_count": null,
   "id": "e8b86a28-d9ab-46b5-bb35-05f959a22664",
   "metadata": {},
   "outputs": [],
   "source": [
    "i = 5\n",
    "vmin = 0.3\n",
    "loc1 = 80\n",
    "loc2 = 60\n",
    "loc3 = 100"
   ]
  },
  {
   "cell_type": "code",
   "execution_count": null,
   "id": "5984ab55-92c9-4bf8-9600-e1a03601ed87",
   "metadata": {},
   "outputs": [],
   "source": [
    "data = pmci_set[i]\n",
    "orig_data = pmci_orig_set[i]\n",
    "org = orig_data['x']"
   ]
  },
  {
   "cell_type": "code",
   "execution_count": null,
   "id": "4881bc47-91c7-41f2-80ee-b8995ad8445e",
   "metadata": {},
   "outputs": [],
   "source": [
    "img, gcamp_map, guided_map, title = get_map(data, 'backbone.layer1', model, local_rank)\n",
    "gcamp_map_t = np.abs(1 - gcamp_map)"
   ]
  },
  {
   "cell_type": "code",
   "execution_count": null,
   "id": "e80c1ec9-836d-4b4a-8d48-f5cb6234ebdd",
   "metadata": {},
   "outputs": [],
   "source": [
    "tr = resize(gcamp_map_t, [145, 145, 145])"
   ]
  },
  {
   "cell_type": "code",
   "execution_count": null,
   "id": "1fd4733f-0711-499d-a74d-2f3491eac8ef",
   "metadata": {},
   "outputs": [],
   "source": [
    "title"
   ]
  },
  {
   "cell_type": "code",
   "execution_count": null,
   "id": "e0dc5a53-272c-4b26-b202-d9904ed7ad90",
   "metadata": {},
   "outputs": [],
   "source": [
    "tr_m = tr.copy()\n",
    "bmask = org[0] <= 0\n",
    "tr_m[bmask] = np.nan\n",
    "\n",
    "m = tr_m < vmin\n",
    "tr_m[m] = np.nan"
   ]
  },
  {
   "cell_type": "code",
   "execution_count": null,
   "id": "9b78c6c3-992c-4347-a640-ec984f983089",
   "metadata": {},
   "outputs": [],
   "source": [
    "fig, axs = plt.subplots(3, 3, figsize=(14, 14))\n",
    "axs = axs.ravel()\n",
    "\n",
    "axs[0].imshow(org[0, loc1, :, :], cmap='binary')\n",
    "axs[1].imshow(tr_m[loc1, :, :], cmap='jet', alpha=0.2, vmin=vmin)\n",
    "axs[2].imshow(org[0, loc1, :, :], cmap='binary')\n",
    "axs[2].imshow(tr_m[loc1, :, :], cmap='jet', alpha=0.2, vmin=vmin)\n",
    "\n",
    "\n",
    "axs[3].imshow(org[0, :, loc2, :], cmap='binary')\n",
    "axs[4].imshow(tr_m[:, loc2, :], cmap='jet', alpha=0.2, vmin=vmin)\n",
    "axs[5].imshow(org[0, :, loc2, :], cmap='binary')\n",
    "axs[5].imshow(tr_m[:, loc2, :], cmap='jet', alpha=0.2, vmin=vmin)\n",
    "\n",
    "axs[6].imshow(org[0, :, :, loc3], cmap='binary')\n",
    "axs[7].imshow(tr_m[:, :, loc3], cmap='jet', alpha=0.2, vmin=vmin)\n",
    "axs[8].imshow(org[0, :, :, loc3], cmap='binary')\n",
    "axs[8].imshow(tr_m[:, :, loc3], cmap='jet', alpha=0.2, vmin=vmin)\n",
    "\n",
    "\n",
    "plt.show()"
   ]
  },
  {
   "cell_type": "code",
   "execution_count": null,
   "id": "a1f91ca9-6878-404e-810a-3c8ed5f57263",
   "metadata": {},
   "outputs": [],
   "source": []
  },
  {
   "cell_type": "code",
   "execution_count": null,
   "id": "8da3d16a-49fc-49bf-8c38-b04f8d364264",
   "metadata": {},
   "outputs": [],
   "source": []
  },
  {
   "cell_type": "code",
   "execution_count": null,
   "id": "adc71f1a-0bf0-4ed5-8db7-7c19a9578afe",
   "metadata": {},
   "outputs": [],
   "source": []
  },
  {
   "cell_type": "code",
   "execution_count": null,
   "id": "08efb43d-9098-46fb-b8db-fb998e9f7ea8",
   "metadata": {},
   "outputs": [],
   "source": [
    "fig = plt.figure()\n",
    "matshow3d(a, fig=fig, title=\"3D Volume\", figsize=(20, 20))\n",
    "plt.show()"
   ]
  },
  {
   "cell_type": "code",
   "execution_count": null,
   "id": "cd860f21-2efe-4fde-b78a-b080751c123e",
   "metadata": {},
   "outputs": [],
   "source": [
    "import numpy as np\n",
    "import matplotlib.pyplot as plt\n",
    "from monai.visualize import matshow3d\n",
    "fig = plt.figure()\n",
    "matshow3d(t, fig=fig, title=\"3D Volume\", figsize=(20, 20), cmap='jet')\n",
    "plt.show()"
   ]
  }
 ],
 "metadata": {
  "kernelspec": {
   "display_name": "Python 3 (ipykernel)",
   "language": "python",
   "name": "python3"
  },
  "language_info": {
   "codemirror_mode": {
    "name": "ipython",
    "version": 3
   },
   "file_extension": ".py",
   "mimetype": "text/x-python",
   "name": "python",
   "nbconvert_exporter": "python",
   "pygments_lexer": "ipython3",
   "version": "3.8.12"
  }
 },
 "nbformat": 4,
 "nbformat_minor": 5
}
