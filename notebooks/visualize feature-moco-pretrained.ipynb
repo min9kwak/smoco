{
 "cells": [
  {
   "cell_type": "code",
   "execution_count": 1,
   "id": "8867b0ed-5e66-4b8a-9e38-1f68bd3f24a5",
   "metadata": {},
   "outputs": [
    {
     "name": "stdout",
     "output_type": "stream",
     "text": [
      "Thu Jul 28 15:11:44 2022       \n",
      "+-----------------------------------------------------------------------------+\n",
      "| NVIDIA-SMI 470.57.02    Driver Version: 470.57.02    CUDA Version: 11.4     |\n",
      "|-------------------------------+----------------------+----------------------+\n",
      "| GPU  Name        Persistence-M| Bus-Id        Disp.A | Volatile Uncorr. ECC |\n",
      "| Fan  Temp  Perf  Pwr:Usage/Cap|         Memory-Usage | GPU-Util  Compute M. |\n",
      "|                               |                      |               MIG M. |\n",
      "|===============================+======================+======================|\n",
      "|   0  Tesla V100-DGXS...  On   | 00000000:07:00.0 Off |                    0 |\n",
      "| N/A   57C    P0   250W / 300W |  21027MiB / 32505MiB |    100%      Default |\n",
      "|                               |                      |                  N/A |\n",
      "+-------------------------------+----------------------+----------------------+\n",
      "|   1  Tesla V100-DGXS...  On   | 00000000:08:00.0 Off |                    0 |\n",
      "| N/A   57C    P0   175W / 300W |  23994MiB / 32508MiB |     99%      Default |\n",
      "|                               |                      |                  N/A |\n",
      "+-------------------------------+----------------------+----------------------+\n",
      "|   2  Tesla V100-DGXS...  On   | 00000000:0E:00.0 Off |                    0 |\n",
      "| N/A   52C    P0    40W / 300W |     13MiB / 32508MiB |      0%      Default |\n",
      "|                               |                      |                  N/A |\n",
      "+-------------------------------+----------------------+----------------------+\n",
      "|   3  Tesla V100-DGXS...  On   | 00000000:0F:00.0 Off |                    0 |\n",
      "| N/A   51C    P0    41W / 300W |     13MiB / 32508MiB |      0%      Default |\n",
      "|                               |                      |                  N/A |\n",
      "+-------------------------------+----------------------+----------------------+\n",
      "                                                                               \n",
      "+-----------------------------------------------------------------------------+\n",
      "| Processes:                                                                  |\n",
      "|  GPU   GI   CI        PID   Type   Process name                  GPU Memory |\n",
      "|        ID   ID                                                   Usage      |\n",
      "|=============================================================================|\n",
      "+-----------------------------------------------------------------------------+\n"
     ]
    }
   ],
   "source": [
    "!nvidia-smi"
   ]
  },
  {
   "cell_type": "code",
   "execution_count": 2,
   "id": "4b963230-caf8-45bd-a724-6f7a2221076d",
   "metadata": {},
   "outputs": [],
   "source": [
    "import sys\n",
    "sys.path.append('../')"
   ]
  },
  {
   "cell_type": "code",
   "execution_count": 3,
   "id": "57bc59ea-cd6c-4ffd-a130-a461b1907bb2",
   "metadata": {},
   "outputs": [],
   "source": [
    "import os\n",
    "import sys\n",
    "import json\n",
    "import time\n",
    "import rich\n",
    "import numpy as np\n",
    "import pickle\n",
    "import wandb\n",
    "import tqdm\n",
    "\n",
    "import torch\n",
    "import torch.nn as nn\n",
    "import torch.nn.functional as F\n",
    "\n",
    "from configs.finetune import FinetuneConfig\n",
    "from tasks.classification import Classification\n",
    "\n",
    "from models.backbone.base import calculate_out_features\n",
    "from models.backbone.densenet import DenseNetBackbone\n",
    "from models.backbone.resnet import build_resnet_backbone\n",
    "from models.head.projector import MLPHead\n",
    "from models.head.classifier import LinearClassifier\n",
    "\n",
    "from datasets.brain import BrainProcessor, Brain, BrainMoCo\n",
    "from datasets.transforms import make_transforms, compute_statistics\n",
    "\n",
    "from utils.logging import get_rich_logger\n",
    "from utils.gpu import set_gpu\n",
    "\n",
    "from easydict import EasyDict as edict\n",
    "from torch.utils.data import DataLoader, Subset\n",
    "\n",
    "import matplotlib.pyplot as plt\n",
    "from matplotlib import colors\n",
    "\n",
    "from skimage.transform import resize"
   ]
  },
  {
   "cell_type": "code",
   "execution_count": 1,
   "id": "8dcbead3-4775-4e13-af1c-f69f306f5d45",
   "metadata": {},
   "outputs": [],
   "source": [
    "# TODO: change pet-moco / config directories"
   ]
  },
  {
   "cell_type": "code",
   "execution_count": 6,
   "id": "4826b240-fe6f-4f19-b051-9a983495c99c",
   "metadata": {},
   "outputs": [],
   "source": [
    "gpus = ['3']\n",
    "server = 'dgx'\n",
    "\n",
    "hashs =[(\"2022-07-02_08-00-31\", \"2022-07-03_13-41-32\"),\n",
    "        (\"2022-07-02_08-00-57\", \"2022-07-03_13-37-29\"),\n",
    "        (\"2022-07-02_09-38-52\", \"2022-07-03_13-33-23\"),\n",
    "        (\"2022-07-02_09-40-42\", \"2022-07-03_13-29-10\"),\n",
    "        (\"2022-07-02_11-17-38\", \"2022-07-03_13-25-05\"),\n",
    "        (\"2022-07-02_11-20-21\", \"2022-07-03_13-21-00\"),\n",
    "        (\"2022-07-02_17-15-14\", \"2022-07-03_13-16-54\"),\n",
    "        (\"2022-07-02_17-15-34\", \"2022-07-03_13-12-44\"),\n",
    "        (\"2022-07-02_18-53-46\", \"2022-07-03_13-08-35\"),\n",
    "        (\"2022-07-02_18-54-27\", \"2022-07-03_13-04-32\")]\n",
    "hash = hashs[0]"
   ]
  },
  {
   "cell_type": "code",
   "execution_count": 7,
   "id": "000b5b46-025c-4a96-86f4-8bbb209761e6",
   "metadata": {},
   "outputs": [],
   "source": [
    "config = edict()\n",
    "config.server = server\n",
    "config.gpus = gpus\n",
    "local_rank = 0\n",
    "\n",
    "config.finetune_file = os.path.join(f'../checkpoints/pet-supmoco/resnet/{hash[0]}/ckpt.last.pth.tar')\n",
    "finetune_config = os.path.join(f'../checkpoints/pet-supmoco/resnet/{hash[0]}/configs.json')\n",
    "with open(finetune_config, 'rb') as fb:\n",
    "    finetune_config = json.load(fb)\n",
    "\n",
    "finetune_config_names = [\n",
    "    # data_parser\n",
    "    'data_type', 'root', 'data_info', 'mci_only', 'n_splits', 'n_cv',\n",
    "    'image_size', 'small_kernel', 'random_state',\n",
    "    'intensity', 'crop', 'crop_size', 'rotate', 'flip', 'affine', 'blur', 'blur_std', 'prob',\n",
    "    # model_parser\n",
    "    'backbone_type', 'init_features', 'growth_rate', 'block_config', 'bn_size', 'dropout_rate',\n",
    "    'arch', 'no_max_pool',\n",
    "    # train\n",
    "    'batch_size',\n",
    "    # moco / supmoco\n",
    "    'alphas',\n",
    "    # others\n",
    "    'task', 'projector_dim'\n",
    "]\n",
    "\n",
    "for name in finetune_config_names:\n",
    "    if name in finetune_config.keys():\n",
    "        setattr(config, name, finetune_config[name])"
   ]
  },
  {
   "cell_type": "code",
   "execution_count": 8,
   "id": "25e9f9ed-61bd-4e16-9a27-c477c450fb0e",
   "metadata": {},
   "outputs": [
    {
     "name": "stdout",
     "output_type": "stream",
     "text": [
      "2021\n"
     ]
    }
   ],
   "source": [
    "print(config.random_state)"
   ]
  },
  {
   "cell_type": "code",
   "execution_count": 9,
   "id": "6d9e4422-5734-4179-9adb-bc3c79969a9b",
   "metadata": {},
   "outputs": [],
   "source": [
    "set_gpu(config)\n",
    "np.random.seed(config.random_state)\n",
    "torch.manual_seed(config.random_state)\n",
    "torch.backends.cuda.matmul.allow_tf32 = True\n",
    "torch.backends.cudnn.benchmark = True\n",
    "torch.backends.cudnn.deterministic = False\n",
    "torch.backends.cudnn.allow_tf32 = True\n",
    "torch.cuda.set_device(local_rank)\n",
    "\n",
    "# Networks\n",
    "if config.backbone_type == 'densenet':\n",
    "    backbone = DenseNetBackbone(in_channels=1,\n",
    "                                init_features=config.init_features,\n",
    "                                growth_rate=config.growth_rate,\n",
    "                                block_config=config.block_config,\n",
    "                                bn_size=config.bn_size,\n",
    "                                dropout_rate=config.dropout_rate,\n",
    "                                semi=False)\n",
    "    activation = True\n",
    "elif config.backbone_type == 'resnet':\n",
    "    backbone = build_resnet_backbone(arch=config.arch,\n",
    "                                     no_max_pool=config.no_max_pool,\n",
    "                                     in_channels=1,\n",
    "                                     semi=False)\n",
    "    activation = False\n",
    "else:\n",
    "    raise NotImplementedError\n",
    "\n",
    "if config.small_kernel:\n",
    "    backbone._fix_first_conv()\n",
    "\n",
    "if config.crop:\n",
    "    out_dim = calculate_out_features(backbone=backbone, in_channels=1, image_size=config.crop_size)\n",
    "else:\n",
    "    out_dim = calculate_out_features(backbone=backbone, in_channels=1, image_size=config.image_size)\n",
    "projector = MLPHead(out_dim, config.projector_dim)\n",
    "\n",
    "backbone.load_weights_from_checkpoint(path=config.finetune_file, key='backbone')\n",
    "projector.load_weights_from_checkpoint(path=config.finetune_file, key='head')\n",
    "\n",
    "# load finetune data\n",
    "data_processor = BrainProcessor(root=config.root,\n",
    "                                data_info=config.data_info,\n",
    "                                data_type=config.data_type,\n",
    "                                mci_only=config.mci_only,\n",
    "                                random_state=config.random_state)\n",
    "datasets = data_processor.process(n_splits=config.n_splits, n_cv=config.n_cv)\n",
    "\n",
    "# intensity normalization\n",
    "assert config.intensity in [None, 'scale', 'minmax']\n",
    "mean_std, min_max = (None, None), (None, None)\n",
    "if config.intensity is None:\n",
    "    pass\n",
    "elif config.intensity == 'scale':\n",
    "    pass\n",
    "elif config.intensity == 'minmax':\n",
    "    with open(os.path.join(config.root, 'labels/minmax.pkl'), 'rb') as fb:\n",
    "        minmax_stats = pickle.load(fb)\n",
    "        min_max = (minmax_stats[config.data_type]['min'], minmax_stats[config.data_type]['max'])\n",
    "else:\n",
    "    raise NotImplementedError\n",
    "\n",
    "train_transform, test_transform = make_transforms(image_size=config.image_size,\n",
    "                                                  intensity=config.intensity,\n",
    "                                                  mean_std=mean_std,\n",
    "                                                  min_max=min_max,\n",
    "                                                  crop=config.crop,\n",
    "                                                  crop_size=config.crop_size,\n",
    "                                                  rotate=config.rotate,\n",
    "                                                  flip=config.flip,\n",
    "                                                  affine=config.affine,\n",
    "                                                  blur=config.blur,\n",
    "                                                  blur_std=config.blur_std,\n",
    "                                                  prob=config.prob)\n",
    "\n",
    "train_set = Brain(dataset=datasets['train'], data_type=config.data_type, transform=test_transform)\n",
    "test_set = Brain(dataset=datasets['test'], data_type=config.data_type, transform=test_transform)\n",
    "\n",
    "train_loader = DataLoader(dataset=train_set, batch_size=16, drop_last=False)\n",
    "test_loader = DataLoader(dataset=test_set, batch_size=16, drop_last=False)"
   ]
  },
  {
   "cell_type": "code",
   "execution_count": 10,
   "id": "b9b6a1d2-0ad6-4a30-9472-4bcb58406aa6",
   "metadata": {},
   "outputs": [],
   "source": [
    "total_set = {'mri': datasets['train']['mri'] + datasets['u_train']['mri'],\n",
    "             'pet': datasets['train']['pet'] + datasets['u_train']['pet'],\n",
    "             'y': np.concatenate([datasets['train']['y'], datasets['u_train']['y']])}\n",
    "total_set = Brain(dataset=total_set, data_type=config.data_type, transform=test_transform)\n",
    "total_loader = DataLoader(dataset=total_set, batch_size=16, drop_last=False)"
   ]
  },
  {
   "cell_type": "code",
   "execution_count": 13,
   "id": "4b0ca87d-d67e-4501-9020-54cd576d1120",
   "metadata": {},
   "outputs": [],
   "source": [
    "@torch.no_grad()\n",
    "def extract_features(data_loader, encoder: nn.Module, projector: nn.Module, device: int):\n",
    "    \n",
    "    encoder.to(device)\n",
    "    encoder.eval()\n",
    "    \n",
    "    Z = []\n",
    "    y = []\n",
    "    for i, batch in enumerate(tqdm.tqdm(data_loader)):\n",
    "        x = batch['x'].to(device)\n",
    "        z = encoder(x)        \n",
    "        Z += [z]\n",
    "        y += [batch['y'].to(device)]\n",
    "        \n",
    "    encoder.to('cpu')\n",
    "    \n",
    "    Z = torch.cat(Z, dim=0)\n",
    "    y = torch.cat(y, dim=0)\n",
    "    \n",
    "    return Z, y"
   ]
  },
  {
   "cell_type": "code",
   "execution_count": 14,
   "id": "fd754a1f-0fd7-4406-b594-fac948e3d90d",
   "metadata": {},
   "outputs": [
    {
     "name": "stderr",
     "output_type": "stream",
     "text": [
      "100%|██████████| 62/62 [00:52<00:00,  1.17it/s]"
     ]
    },
    {
     "name": "stdout",
     "output_type": "stream",
     "text": [
      "torch.Size([984, 2048])\n"
     ]
    },
    {
     "name": "stderr",
     "output_type": "stream",
     "text": [
      "\n"
     ]
    }
   ],
   "source": [
    "Z, Y = extract_features(total_loader, backbone, projector, 0)\n",
    "Z = nn.AdaptiveAvgPool3d(1)(Z)\n",
    "Z = np.squeeze(Z)\n",
    "print(Z.shape)"
   ]
  },
  {
   "cell_type": "code",
   "execution_count": 16,
   "id": "5e376740-5559-45f2-b9f9-7954d70970e6",
   "metadata": {},
   "outputs": [],
   "source": [
    "Z = Z.detach().cpu().numpy()\n",
    "Y = Y.detach().cpu().numpy()"
   ]
  },
  {
   "cell_type": "markdown",
   "id": "94cb98a8-cafa-46a9-94c2-a6d74b073dfc",
   "metadata": {},
   "source": [
    "# 1. UMAP"
   ]
  },
  {
   "cell_type": "code",
   "execution_count": 17,
   "id": "72e584ba-629d-4fdc-8e24-4df7a7ef498d",
   "metadata": {},
   "outputs": [],
   "source": [
    "import umap.umap_ as umap"
   ]
  },
  {
   "cell_type": "code",
   "execution_count": 18,
   "id": "305e4636-9422-47a0-85ef-6d4c369b0c00",
   "metadata": {},
   "outputs": [
    {
     "name": "stderr",
     "output_type": "stream",
     "text": [
      "OMP: Info #276: omp_set_nested routine deprecated, please use omp_set_max_active_levels instead.\n"
     ]
    },
    {
     "data": {
      "image/png": "[encoded data removed]",
      "text/plain": [
       "<Figure size 576x576 with 1 Axes>"
      ]
     },
     "metadata": {
      "needs_background": "light"
     },
     "output_type": "display_data"
    }
   ],
   "source": [
    "reducer = umap.UMAP(n_neighbors=15, min_dist=0.2)\n",
    "embedding = reducer.fit_transform(Z)\n",
    "classes = [-1, 0, 1]\n",
    "colors = ['grey', 'blue', 'red']\n",
    "plt.figure(figsize=(8, 8))\n",
    "for c, color in zip(classes, colors):\n",
    "    plt.scatter(embedding[Y==c, 0], embedding[Y==c, 1], s=6, color=colors[c+1])\n",
    "plt.show()"
   ]
  },
  {
   "cell_type": "markdown",
   "id": "c8c4e662-25c8-4696-845f-ca2f8e7852a8",
   "metadata": {},
   "source": [
    "# load amyloid info"
   ]
  },
  {
   "cell_type": "code",
   "execution_count": 18,
   "id": "36c7d953-99e7-41cd-93c6-cad0d12cb4cf",
   "metadata": {},
   "outputs": [],
   "source": [
    "import pandas as pd\n",
    "amyloid_info = pd.read_excel('/raidWorkspace/mingu/Data/ADNI/labels/AV45_FBP_SUVR.xlsx', sheet_name='list_id_SUVR_RSF', engine='openpyxl')\n",
    "amyloid_info = amyloid_info[['ID', 'AmyloidPositive_CL20', 'AmyloidPositive_CL37']]"
   ]
  },
  {
   "cell_type": "code",
   "execution_count": 43,
   "id": "5a38c9e2-6371-4fe1-bc53-eafcdca5d4d5",
   "metadata": {},
   "outputs": [
    {
     "data": {
      "text/plain": [
       "True"
      ]
     },
     "execution_count": 43,
     "metadata": {},
     "output_type": "execute_result"
    }
   ],
   "source": [
    "left_idx = np.where(embedding[:, 0] < 6.0)[0]\n",
    "right_idx = np.where(embedding[:, 0] > 6.0)[0]\n",
    "len(left_idx) + len(right_idx) == len(total_set)"
   ]
  },
  {
   "cell_type": "code",
   "execution_count": 71,
   "id": "086f95c8-6b01-459c-b6eb-cfd1827100d9",
   "metadata": {},
   "outputs": [],
   "source": [
    "left_id = np.array(total_set.pet)[left_idx]\n",
    "left_id = [i.split('/')[-1].replace('.pkl', '') for i in left_id]\n",
    "left_y = np.array(total_set.y)[left_idx]\n",
    "\n",
    "right_id = np.array(total_set.pet)[right_idx]\n",
    "right_id = [i.split('/')[-1].replace('.pkl', '') for i in right_id]\n",
    "right_y = np.array(total_set.y)[right_idx]"
   ]
  },
  {
   "cell_type": "code",
   "execution_count": 74,
   "id": "a6222297-acc5-48fb-9988-6fd5473ea8a5",
   "metadata": {},
   "outputs": [],
   "source": [
    "left_cl20 = [amyloid_info.loc[amyloid_info.ID == a, 'AmyloidPositive_CL20'].item() for a in left_id]\n",
    "left_cl37 = [amyloid_info.loc[amyloid_info.ID == a, 'AmyloidPositive_CL37'].item() for a in left_id]\n",
    "\n",
    "right_cl20 = [amyloid_info.loc[amyloid_info.ID == a, 'AmyloidPositive_CL20'].item() for a in right_id]\n",
    "right_cl37 = [amyloid_info.loc[amyloid_info.ID == a, 'AmyloidPositive_CL37'].item() for a in right_id]"
   ]
  },
  {
   "cell_type": "code",
   "execution_count": 82,
   "id": "27e6216a-ae70-4f4b-b4e1-67e84a209699",
   "metadata": {},
   "outputs": [],
   "source": [
    "left_df = pd.DataFrame({'label': left_y, 'cl20': left_cl20, 'cl37': left_cl37})\n",
    "right_df = pd.DataFrame({'label': right_y, 'cl20': right_cl20, 'cl37': right_cl37})"
   ]
  },
  {
   "cell_type": "code",
   "execution_count": 77,
   "id": "5dfd264c-9eb9-4c15-a08b-8f16f7930fa5",
   "metadata": {},
   "outputs": [
    {
     "data": {
      "text/html": [
       "<div>\n",
       "<style scoped>\n",
       "    .dataframe tbody tr th:only-of-type {\n",
       "        vertical-align: middle;\n",
       "    }\n",
       "\n",
       "    .dataframe tbody tr th {\n",
       "        vertical-align: top;\n",
       "    }\n",
       "\n",
       "    .dataframe thead th {\n",
       "        text-align: right;\n",
       "    }\n",
       "</style>\n",
       "<table border=\"1\" class=\"dataframe\">\n",
       "  <thead>\n",
       "    <tr style=\"text-align: right;\">\n",
       "      <th>cl20</th>\n",
       "      <th>0</th>\n",
       "      <th>1</th>\n",
       "    </tr>\n",
       "    <tr>\n",
       "      <th>label</th>\n",
       "      <th></th>\n",
       "      <th></th>\n",
       "    </tr>\n",
       "  </thead>\n",
       "  <tbody>\n",
       "    <tr>\n",
       "      <th>-1</th>\n",
       "      <td>93</td>\n",
       "      <td>111</td>\n",
       "    </tr>\n",
       "    <tr>\n",
       "      <th>0</th>\n",
       "      <td>124</td>\n",
       "      <td>93</td>\n",
       "    </tr>\n",
       "    <tr>\n",
       "      <th>1</th>\n",
       "      <td>3</td>\n",
       "      <td>64</td>\n",
       "    </tr>\n",
       "  </tbody>\n",
       "</table>\n",
       "</div>"
      ],
      "text/plain": [
       "cl20     0    1\n",
       "label          \n",
       "-1      93  111\n",
       " 0     124   93\n",
       " 1       3   64"
      ]
     },
     "execution_count": 77,
     "metadata": {},
     "output_type": "execute_result"
    }
   ],
   "source": [
    "pd.pivot_table(left_df, values='cl20', index='label', columns=['cl20'], aggfunc='count')"
   ]
  },
  {
   "cell_type": "code",
   "execution_count": 83,
   "id": "125f6d7e-a999-4efb-8429-6ab866a03b49",
   "metadata": {},
   "outputs": [
    {
     "data": {
      "text/html": [
       "<div>\n",
       "<style scoped>\n",
       "    .dataframe tbody tr th:only-of-type {\n",
       "        vertical-align: middle;\n",
       "    }\n",
       "\n",
       "    .dataframe tbody tr th {\n",
       "        vertical-align: top;\n",
       "    }\n",
       "\n",
       "    .dataframe thead th {\n",
       "        text-align: right;\n",
       "    }\n",
       "</style>\n",
       "<table border=\"1\" class=\"dataframe\">\n",
       "  <thead>\n",
       "    <tr style=\"text-align: right;\">\n",
       "      <th>cl20</th>\n",
       "      <th>0</th>\n",
       "      <th>1</th>\n",
       "    </tr>\n",
       "    <tr>\n",
       "      <th>label</th>\n",
       "      <th></th>\n",
       "      <th></th>\n",
       "    </tr>\n",
       "  </thead>\n",
       "  <tbody>\n",
       "    <tr>\n",
       "      <th>-1</th>\n",
       "      <td>123</td>\n",
       "      <td>92</td>\n",
       "    </tr>\n",
       "    <tr>\n",
       "      <th>0</th>\n",
       "      <td>143</td>\n",
       "      <td>62</td>\n",
       "    </tr>\n",
       "    <tr>\n",
       "      <th>1</th>\n",
       "      <td>12</td>\n",
       "      <td>64</td>\n",
       "    </tr>\n",
       "  </tbody>\n",
       "</table>\n",
       "</div>"
      ],
      "text/plain": [
       "cl20     0   1\n",
       "label         \n",
       "-1     123  92\n",
       " 0     143  62\n",
       " 1      12  64"
      ]
     },
     "execution_count": 83,
     "metadata": {},
     "output_type": "execute_result"
    }
   ],
   "source": [
    "pd.pivot_table(right_df, values='cl20', index='label', columns=['cl20'], aggfunc='count')"
   ]
  },
  {
   "cell_type": "code",
   "execution_count": 85,
   "id": "c5075cc6-5c49-4894-b4bd-500c3f0501dd",
   "metadata": {},
   "outputs": [
    {
     "data": {
      "text/html": [
       "<div>\n",
       "<style scoped>\n",
       "    .dataframe tbody tr th:only-of-type {\n",
       "        vertical-align: middle;\n",
       "    }\n",
       "\n",
       "    .dataframe tbody tr th {\n",
       "        vertical-align: top;\n",
       "    }\n",
       "\n",
       "    .dataframe thead th {\n",
       "        text-align: right;\n",
       "    }\n",
       "</style>\n",
       "<table border=\"1\" class=\"dataframe\">\n",
       "  <thead>\n",
       "    <tr style=\"text-align: right;\">\n",
       "      <th>cl37</th>\n",
       "      <th>0</th>\n",
       "      <th>1</th>\n",
       "    </tr>\n",
       "    <tr>\n",
       "      <th>label</th>\n",
       "      <th></th>\n",
       "      <th></th>\n",
       "    </tr>\n",
       "  </thead>\n",
       "  <tbody>\n",
       "    <tr>\n",
       "      <th>-1</th>\n",
       "      <td>111</td>\n",
       "      <td>93</td>\n",
       "    </tr>\n",
       "    <tr>\n",
       "      <th>0</th>\n",
       "      <td>149</td>\n",
       "      <td>68</td>\n",
       "    </tr>\n",
       "    <tr>\n",
       "      <th>1</th>\n",
       "      <td>7</td>\n",
       "      <td>60</td>\n",
       "    </tr>\n",
       "  </tbody>\n",
       "</table>\n",
       "</div>"
      ],
      "text/plain": [
       "cl37     0   1\n",
       "label         \n",
       "-1     111  93\n",
       " 0     149  68\n",
       " 1       7  60"
      ]
     },
     "execution_count": 85,
     "metadata": {},
     "output_type": "execute_result"
    }
   ],
   "source": [
    "pd.pivot_table(left_df, values='cl37', index='label', columns=['cl37'], aggfunc='count')"
   ]
  },
  {
   "cell_type": "code",
   "execution_count": 86,
   "id": "e90c0010-a516-4424-9827-729bf011b66a",
   "metadata": {},
   "outputs": [
    {
     "data": {
      "text/html": [
       "<div>\n",
       "<style scoped>\n",
       "    .dataframe tbody tr th:only-of-type {\n",
       "        vertical-align: middle;\n",
       "    }\n",
       "\n",
       "    .dataframe tbody tr th {\n",
       "        vertical-align: top;\n",
       "    }\n",
       "\n",
       "    .dataframe thead th {\n",
       "        text-align: right;\n",
       "    }\n",
       "</style>\n",
       "<table border=\"1\" class=\"dataframe\">\n",
       "  <thead>\n",
       "    <tr style=\"text-align: right;\">\n",
       "      <th>cl37</th>\n",
       "      <th>0</th>\n",
       "      <th>1</th>\n",
       "    </tr>\n",
       "    <tr>\n",
       "      <th>label</th>\n",
       "      <th></th>\n",
       "      <th></th>\n",
       "    </tr>\n",
       "  </thead>\n",
       "  <tbody>\n",
       "    <tr>\n",
       "      <th>-1</th>\n",
       "      <td>140</td>\n",
       "      <td>75</td>\n",
       "    </tr>\n",
       "    <tr>\n",
       "      <th>0</th>\n",
       "      <td>160</td>\n",
       "      <td>45</td>\n",
       "    </tr>\n",
       "    <tr>\n",
       "      <th>1</th>\n",
       "      <td>14</td>\n",
       "      <td>62</td>\n",
       "    </tr>\n",
       "  </tbody>\n",
       "</table>\n",
       "</div>"
      ],
      "text/plain": [
       "cl37     0   1\n",
       "label         \n",
       "-1     140  75\n",
       " 0     160  45\n",
       " 1      14  62"
      ]
     },
     "execution_count": 86,
     "metadata": {},
     "output_type": "execute_result"
    }
   ],
   "source": [
    "pd.pivot_table(right_df, values='cl37', index='label', columns=['cl37'], aggfunc='count')"
   ]
  },
  {
   "cell_type": "markdown",
   "id": "d96667ca-5b4c-4163-a4c3-7dfb87c4a160",
   "metadata": {},
   "source": [
    "# Demo"
   ]
  },
  {
   "cell_type": "code",
   "execution_count": 88,
   "id": "37ffac30-2b35-487b-b31e-6c50c254fe4e",
   "metadata": {},
   "outputs": [],
   "source": [
    "demo_info = pd.read_excel('/raidWorkspace/mingu/Data/ADNI/labels/AV45_FBP_SUVR.xlsx', sheet_name='demographic info', engine='openpyxl')\n",
    "demo_info = demo_info[['ID1', 'RID', 'Age', 'VISCODE2']]"
   ]
  },
  {
   "cell_type": "code",
   "execution_count": 95,
   "id": "3a0f8e9e-1b49-4e92-9b82-a071fb3224a7",
   "metadata": {},
   "outputs": [],
   "source": [
    "left_rid = [demo_info.loc[demo_info.ID1 == a, 'RID'].item() for a in left_id]\n",
    "left_age = [demo_info.loc[demo_info.ID1 == a, 'Age'].item() for a in left_id]\n",
    "left_vc = [demo_info.loc[demo_info.ID1 == a, 'VISCODE2'].item() for a in left_id]\n",
    "\n",
    "right_rid = [demo_info.loc[demo_info.ID1 == a, 'RID'].item() for a in right_id]\n",
    "right_age = [demo_info.loc[demo_info.ID1 == a, 'Age'].item() for a in right_id]\n",
    "right_vc = [demo_info.loc[demo_info.ID1 == a, 'VISCODE2'].item() for a in right_id]"
   ]
  },
  {
   "cell_type": "code",
   "execution_count": 104,
   "id": "8dfd5d99-0a1d-45b9-b4cc-01caf84eef1e",
   "metadata": {},
   "outputs": [],
   "source": [
    "left_df = pd.DataFrame({'label': left_y, 'age': left_age, 'vc': left_vc})\n",
    "right_df = pd.DataFrame({'label': right_y, 'age': right_age, 'vc': right_vc})"
   ]
  },
  {
   "cell_type": "code",
   "execution_count": 105,
   "id": "c4e0af62-a5b8-46e3-b9bd-d9fa013ccc35",
   "metadata": {},
   "outputs": [
    {
     "data": {
      "text/html": [
       "<div>\n",
       "<style scoped>\n",
       "    .dataframe tbody tr th:only-of-type {\n",
       "        vertical-align: middle;\n",
       "    }\n",
       "\n",
       "    .dataframe tbody tr th {\n",
       "        vertical-align: top;\n",
       "    }\n",
       "\n",
       "    .dataframe thead th {\n",
       "        text-align: right;\n",
       "    }\n",
       "</style>\n",
       "<table border=\"1\" class=\"dataframe\">\n",
       "  <thead>\n",
       "    <tr style=\"text-align: right;\">\n",
       "      <th></th>\n",
       "      <th>age</th>\n",
       "    </tr>\n",
       "    <tr>\n",
       "      <th>label</th>\n",
       "      <th></th>\n",
       "    </tr>\n",
       "  </thead>\n",
       "  <tbody>\n",
       "    <tr>\n",
       "      <th>-1</th>\n",
       "      <td>74.485576</td>\n",
       "    </tr>\n",
       "    <tr>\n",
       "      <th>0</th>\n",
       "      <td>70.818484</td>\n",
       "    </tr>\n",
       "    <tr>\n",
       "      <th>1</th>\n",
       "      <td>74.493110</td>\n",
       "    </tr>\n",
       "  </tbody>\n",
       "</table>\n",
       "</div>"
      ],
      "text/plain": [
       "             age\n",
       "label           \n",
       "-1     74.485576\n",
       " 0     70.818484\n",
       " 1     74.493110"
      ]
     },
     "execution_count": 105,
     "metadata": {},
     "output_type": "execute_result"
    }
   ],
   "source": [
    "pd.pivot_table(left_df, values='age', index='label', aggfunc=np.mean)"
   ]
  },
  {
   "cell_type": "code",
   "execution_count": 106,
   "id": "8f1dcc79-786e-44a7-8254-de84b7dfb30c",
   "metadata": {},
   "outputs": [
    {
     "data": {
      "text/html": [
       "<div>\n",
       "<style scoped>\n",
       "    .dataframe tbody tr th:only-of-type {\n",
       "        vertical-align: middle;\n",
       "    }\n",
       "\n",
       "    .dataframe tbody tr th {\n",
       "        vertical-align: top;\n",
       "    }\n",
       "\n",
       "    .dataframe thead th {\n",
       "        text-align: right;\n",
       "    }\n",
       "</style>\n",
       "<table border=\"1\" class=\"dataframe\">\n",
       "  <thead>\n",
       "    <tr style=\"text-align: right;\">\n",
       "      <th></th>\n",
       "      <th>age</th>\n",
       "    </tr>\n",
       "    <tr>\n",
       "      <th>label</th>\n",
       "      <th></th>\n",
       "    </tr>\n",
       "  </thead>\n",
       "  <tbody>\n",
       "    <tr>\n",
       "      <th>-1</th>\n",
       "      <td>77.253953</td>\n",
       "    </tr>\n",
       "    <tr>\n",
       "      <th>0</th>\n",
       "      <td>74.520107</td>\n",
       "    </tr>\n",
       "    <tr>\n",
       "      <th>1</th>\n",
       "      <td>76.465213</td>\n",
       "    </tr>\n",
       "  </tbody>\n",
       "</table>\n",
       "</div>"
      ],
      "text/plain": [
       "             age\n",
       "label           \n",
       "-1     77.253953\n",
       " 0     74.520107\n",
       " 1     76.465213"
      ]
     },
     "execution_count": 106,
     "metadata": {},
     "output_type": "execute_result"
    }
   ],
   "source": [
    "pd.pivot_table(right_df, values='age', index='label', aggfunc=np.mean)"
   ]
  },
  {
   "cell_type": "code",
   "execution_count": 150,
   "id": "69295174-534f-4305-a8c2-50fc6015d862",
   "metadata": {},
   "outputs": [],
   "source": [
    "left_df['cluster'] = 'Cluster A'\n",
    "right_df['cluster'] = 'Cluster B'"
   ]
  },
  {
   "cell_type": "code",
   "execution_count": 151,
   "id": "d8c02b90-0b52-4229-bd47-0a4be18b1b99",
   "metadata": {},
   "outputs": [],
   "source": [
    "df = pd.concat([left_df, right_df]).reset_index(drop=True)\n",
    "df = df.loc[df.label != -1].reset_index(drop=True)"
   ]
  },
  {
   "cell_type": "code",
   "execution_count": 152,
   "id": "f9dbfd5e-1412-4f9e-a99e-dcd24929e79e",
   "metadata": {},
   "outputs": [
    {
     "data": {
      "text/html": [
       "<div>\n",
       "<style scoped>\n",
       "    .dataframe tbody tr th:only-of-type {\n",
       "        vertical-align: middle;\n",
       "    }\n",
       "\n",
       "    .dataframe tbody tr th {\n",
       "        vertical-align: top;\n",
       "    }\n",
       "\n",
       "    .dataframe thead th {\n",
       "        text-align: right;\n",
       "    }\n",
       "</style>\n",
       "<table border=\"1\" class=\"dataframe\">\n",
       "  <thead>\n",
       "    <tr style=\"text-align: right;\">\n",
       "      <th></th>\n",
       "      <th>label</th>\n",
       "      <th>age</th>\n",
       "      <th>vc</th>\n",
       "      <th>cluster</th>\n",
       "    </tr>\n",
       "  </thead>\n",
       "  <tbody>\n",
       "    <tr>\n",
       "      <th>0</th>\n",
       "      <td>0</td>\n",
       "      <td>78.284932</td>\n",
       "      <td>m60</td>\n",
       "      <td>Cluster A</td>\n",
       "    </tr>\n",
       "    <tr>\n",
       "      <th>1</th>\n",
       "      <td>1</td>\n",
       "      <td>80.257534</td>\n",
       "      <td>m84</td>\n",
       "      <td>Cluster A</td>\n",
       "    </tr>\n",
       "    <tr>\n",
       "      <th>2</th>\n",
       "      <td>0</td>\n",
       "      <td>75.778082</td>\n",
       "      <td>m60</td>\n",
       "      <td>Cluster A</td>\n",
       "    </tr>\n",
       "    <tr>\n",
       "      <th>3</th>\n",
       "      <td>1</td>\n",
       "      <td>86.364384</td>\n",
       "      <td>m84</td>\n",
       "      <td>Cluster A</td>\n",
       "    </tr>\n",
       "    <tr>\n",
       "      <th>4</th>\n",
       "      <td>0</td>\n",
       "      <td>79.665753</td>\n",
       "      <td>m60</td>\n",
       "      <td>Cluster A</td>\n",
       "    </tr>\n",
       "    <tr>\n",
       "      <th>...</th>\n",
       "      <td>...</td>\n",
       "      <td>...</td>\n",
       "      <td>...</td>\n",
       "      <td>...</td>\n",
       "    </tr>\n",
       "    <tr>\n",
       "      <th>560</th>\n",
       "      <td>1</td>\n",
       "      <td>70.772603</td>\n",
       "      <td>bl</td>\n",
       "      <td>Cluster B</td>\n",
       "    </tr>\n",
       "    <tr>\n",
       "      <th>561</th>\n",
       "      <td>0</td>\n",
       "      <td>69.693151</td>\n",
       "      <td>m24</td>\n",
       "      <td>Cluster B</td>\n",
       "    </tr>\n",
       "    <tr>\n",
       "      <th>562</th>\n",
       "      <td>0</td>\n",
       "      <td>71.786301</td>\n",
       "      <td>m24</td>\n",
       "      <td>Cluster B</td>\n",
       "    </tr>\n",
       "    <tr>\n",
       "      <th>563</th>\n",
       "      <td>1</td>\n",
       "      <td>71.443836</td>\n",
       "      <td>bl</td>\n",
       "      <td>Cluster B</td>\n",
       "    </tr>\n",
       "    <tr>\n",
       "      <th>564</th>\n",
       "      <td>1</td>\n",
       "      <td>80.745205</td>\n",
       "      <td>bl</td>\n",
       "      <td>Cluster B</td>\n",
       "    </tr>\n",
       "  </tbody>\n",
       "</table>\n",
       "<p>565 rows × 4 columns</p>\n",
       "</div>"
      ],
      "text/plain": [
       "     label        age   vc    cluster\n",
       "0        0  78.284932  m60  Cluster A\n",
       "1        1  80.257534  m84  Cluster A\n",
       "2        0  75.778082  m60  Cluster A\n",
       "3        1  86.364384  m84  Cluster A\n",
       "4        0  79.665753  m60  Cluster A\n",
       "..     ...        ...  ...        ...\n",
       "560      1  70.772603   bl  Cluster B\n",
       "561      0  69.693151  m24  Cluster B\n",
       "562      0  71.786301  m24  Cluster B\n",
       "563      1  71.443836   bl  Cluster B\n",
       "564      1  80.745205   bl  Cluster B\n",
       "\n",
       "[565 rows x 4 columns]"
      ]
     },
     "execution_count": 152,
     "metadata": {},
     "output_type": "execute_result"
    }
   ],
   "source": [
    "df"
   ]
  },
  {
   "cell_type": "code",
   "execution_count": 153,
   "id": "6bdf2e70-cd53-483c-bdad-acbcacbcf58e",
   "metadata": {},
   "outputs": [],
   "source": [
    "import seaborn as sns\n",
    "import matplotlib.pyplot as plt"
   ]
  },
  {
   "cell_type": "code",
   "execution_count": 154,
   "id": "0b156479-32ff-4cc6-b940-f2507449c4da",
   "metadata": {},
   "outputs": [
    {
     "data": {
      "image/png": "[encoded data removed]",
      "text/plain": [
       "<Figure size 576x576 with 1 Axes>"
      ]
     },
     "metadata": {
      "needs_background": "light"
     },
     "output_type": "display_data"
    }
   ],
   "source": [
    "plt.figure(figsize=(8, 8))\n",
    "sns.boxplot(x=\"label\", y=\"age\", palette=[\"m\", \"g\"], hue='cluster',\n",
    "            data=df)\n",
    "plt.show()"
   ]
  },
  {
   "cell_type": "code",
   "execution_count": 156,
   "id": "16151a8c-d215-4f18-b859-f810d2da55f5",
   "metadata": {},
   "outputs": [
    {
     "data": {
      "image/png": "[encoded data removed]",
      "text/plain": [
       "<Figure size 576x576 with 1 Axes>"
      ]
     },
     "metadata": {
      "needs_background": "light"
     },
     "output_type": "display_data"
    }
   ],
   "source": [
    "plt.figure(figsize=(8, 8))\n",
    "sns.boxplot(x=\"cluster\", y=\"age\", palette=[\"m\", \"g\"],\n",
    "            data=df)\n",
    "plt.show()"
   ]
  },
  {
   "cell_type": "code",
   "execution_count": 163,
   "id": "b9df372f-b04d-482c-a436-db50b94836cc",
   "metadata": {},
   "outputs": [],
   "source": [
    "from scipy import stats"
   ]
  },
  {
   "cell_type": "code",
   "execution_count": 169,
   "id": "c556bae9-fa1f-4b08-bfa3-63ec4c52bff8",
   "metadata": {},
   "outputs": [
    {
     "name": "stdout",
     "output_type": "stream",
     "text": [
      "3.0373643075944314e-07\n",
      "3.0373643075944314e-07\n"
     ]
    }
   ],
   "source": [
    "for label in [0, 1]:\n",
    "    a = temp.loc[temp.cluster == 'Cluster A']['age'].values\n",
    "    b = temp.loc[temp.cluster == 'Cluster B']['age'].values\n",
    "    \n",
    "    tstat, pval = stats.ttest_ind(a, b, alternative='less', equal_var=False)\n",
    "    print(pval)"
   ]
  },
  {
   "cell_type": "markdown",
   "id": "6a102467-2413-47a9-94e1-47b413e55d86",
   "metadata": {},
   "source": [
    "# 2. TSNE"
   ]
  },
  {
   "cell_type": "code",
   "execution_count": 34,
   "id": "d6391991-6dc8-4eb3-bc22-dfa8c1e7fc17",
   "metadata": {},
   "outputs": [],
   "source": [
    "from sklearn.manifold import TSNE, Isomap, LocallyLinearEmbedding"
   ]
  },
  {
   "cell_type": "code",
   "execution_count": 23,
   "id": "e042a92d-4207-46e5-a349-e80448c15a63",
   "metadata": {},
   "outputs": [],
   "source": [
    "tsne = TSNE(n_components=2, perplexity=30.0, learning_rate=200.0, n_iter=2000, metric='euclidean', init='pca')"
   ]
  },
  {
   "cell_type": "code",
   "execution_count": 31,
   "id": "1c79a196-10a8-4a24-8a99-ed48f7cbedc7",
   "metadata": {},
   "outputs": [
    {
     "name": "stderr",
     "output_type": "stream",
     "text": [
      "/opt/conda/lib/python3.8/site-packages/sklearn/manifold/_t_sne.py:991: FutureWarning: The PCA initialization in TSNE will change to have the standard deviation of PC1 equal to 1e-4 in 1.2. This will ensure better convergence.\n",
      "  warnings.warn(\n"
     ]
    },
    {
     "data": {
      "image/png": "[encoded data removed]",
      "text/plain": [
       "<Figure size 576x576 with 1 Axes>"
      ]
     },
     "metadata": {
      "needs_background": "light"
     },
     "output_type": "display_data"
    }
   ],
   "source": [
    "embedding = tsne.fit_transform(Z)\n",
    "classes = [-1, 0, 1]\n",
    "colors = ['grey', 'blue', 'red']\n",
    "plt.figure(figsize=(8, 8))\n",
    "for c, color in zip(classes, colors):\n",
    "    plt.scatter(embedding[Y==c, 0], embedding[Y==c, 1], s=6, color=colors[c+1])\n",
    "plt.title('TSNE')\n",
    "plt.show()"
   ]
  },
  {
   "cell_type": "code",
   "execution_count": 32,
   "id": "3289bd96-9814-4304-8ae5-e240fd09d5c5",
   "metadata": {},
   "outputs": [],
   "source": [
    "isomap = Isomap(n_neighbors=10, n_components=2)"
   ]
  },
  {
   "cell_type": "code",
   "execution_count": 33,
   "id": "74761647-be05-4565-a46b-2247265dbe22",
   "metadata": {},
   "outputs": [
    {
     "data": {
      "image/png": "[encoded data removed]",
      "text/plain": [
       "<Figure size 576x576 with 1 Axes>"
      ]
     },
     "metadata": {
      "needs_background": "light"
     },
     "output_type": "display_data"
    }
   ],
   "source": [
    "embedding = isomap.fit_transform(Z)\n",
    "classes = [-1, 0, 1]\n",
    "colors = ['grey', 'blue', 'red']\n",
    "plt.figure(figsize=(8, 8))\n",
    "for c, color in zip(classes, colors):\n",
    "    plt.scatter(embedding[Y==c, 0], embedding[Y==c, 1], s=6, color=colors[c+1])\n",
    "plt.title('ISOMAP')\n",
    "plt.show()"
   ]
  },
  {
   "cell_type": "code",
   "execution_count": 37,
   "id": "10c61b74-ba4a-400f-9074-782111b314e8",
   "metadata": {},
   "outputs": [],
   "source": [
    "lle = LocallyLinearEmbedding(n_neighbors=15, n_components=2)"
   ]
  },
  {
   "cell_type": "code",
   "execution_count": 38,
   "id": "17ac5e19-2ddc-40e7-88e4-90577161a72a",
   "metadata": {},
   "outputs": [
    {
     "data": {
      "image/png": "[encoded data removed]",
      "text/plain": [
       "<Figure size 576x576 with 1 Axes>"
      ]
     },
     "metadata": {
      "needs_background": "light"
     },
     "output_type": "display_data"
    }
   ],
   "source": [
    "embedding = lle.fit_transform(Z)\n",
    "classes = [-1, 0, 1]\n",
    "colors = ['grey', 'blue', 'red']\n",
    "plt.figure(figsize=(8, 8))\n",
    "for c, color in zip(classes, colors):\n",
    "    plt.scatter(embedding[Y==c, 0], embedding[Y==c, 1], s=6, color=colors[c+1])\n",
    "plt.title('Locally Linear Embedding')\n",
    "plt.show()"
   ]
  },
  {
   "cell_type": "code",
   "execution_count": null,
   "id": "15c531af-59ab-43ce-bbf2-aaf1cd50f0ff",
   "metadata": {},
   "outputs": [],
   "source": []
  }
 ],
 "metadata": {
  "kernelspec": {
   "display_name": "Python 3 (ipykernel)",
   "language": "python",
   "name": "python3"
  },
  "language_info": {
   "codemirror_mode": {
    "name": "ipython",
    "version": 3
   },
   "file_extension": ".py",
   "mimetype": "text/x-python",
   "name": "python",
   "nbconvert_exporter": "python",
   "pygments_lexer": "ipython3",
   "version": "3.8.12"
  }
 },
 "nbformat": 4,
 "nbformat_minor": 5
}
