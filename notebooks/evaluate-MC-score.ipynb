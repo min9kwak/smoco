{
 "cells": [
  {
   "cell_type": "code",
   "execution_count": 3,
   "id": "8867b0ed-5e66-4b8a-9e38-1f68bd3f24a5",
   "metadata": {},
   "outputs": [
    {
     "name": "stdout",
     "output_type": "stream",
     "text": [
      "Fri Feb 24 05:18:08 2023       \n",
      "+-----------------------------------------------------------------------------+\n",
      "| NVIDIA-SMI 470.57.02    Driver Version: 470.57.02    CUDA Version: 11.4     |\n",
      "|-------------------------------+----------------------+----------------------+\n",
      "| GPU  Name        Persistence-M| Bus-Id        Disp.A | Volatile Uncorr. ECC |\n",
      "| Fan  Temp  Perf  Pwr:Usage/Cap|         Memory-Usage | GPU-Util  Compute M. |\n",
      "|                               |                      |               MIG M. |\n",
      "|===============================+======================+======================|\n",
      "|   0  Tesla V100-DGXS...  On   | 00000000:07:00.0  On |                    0 |\n",
      "| N/A   36C    P0    60W / 300W |   5161MiB / 32505MiB |      4%      Default |\n",
      "|                               |                      |                  N/A |\n",
      "+-------------------------------+----------------------+----------------------+\n",
      "|   1  Tesla V100-DGXS...  On   | 00000000:08:00.0 Off |                    0 |\n",
      "| N/A   36C    P0    35W / 300W |     13MiB / 32508MiB |      0%      Default |\n",
      "|                               |                      |                  N/A |\n",
      "+-------------------------------+----------------------+----------------------+\n",
      "|   2  Tesla V100-DGXS...  On   | 00000000:0E:00.0 Off |                    0 |\n",
      "| N/A   36C    P0    36W / 300W |     13MiB / 32508MiB |      0%      Default |\n",
      "|                               |                      |                  N/A |\n",
      "+-------------------------------+----------------------+----------------------+\n",
      "|   3  Tesla V100-DGXS...  On   | 00000000:0F:00.0 Off |                    0 |\n",
      "| N/A   35C    P0    49W / 300W |  11538MiB / 32508MiB |      0%      Default |\n",
      "|                               |                      |                  N/A |\n",
      "+-------------------------------+----------------------+----------------------+\n",
      "                                                                               \n",
      "+-----------------------------------------------------------------------------+\n",
      "| Processes:                                                                  |\n",
      "|  GPU   GI   CI        PID   Type   Process name                  GPU Memory |\n",
      "|        ID   ID                                                   Usage      |\n",
      "|=============================================================================|\n",
      "+-----------------------------------------------------------------------------+\n"
     ]
    }
   ],
   "source": [
    "!nvidia-smi"
   ]
  },
  {
   "cell_type": "code",
   "execution_count": 4,
   "id": "4b963230-caf8-45bd-a724-6f7a2221076d",
   "metadata": {},
   "outputs": [],
   "source": [
    "import sys\n",
    "sys.path.append('../')"
   ]
  },
  {
   "cell_type": "code",
   "execution_count": 5,
   "id": "57bc59ea-cd6c-4ffd-a130-a461b1907bb2",
   "metadata": {},
   "outputs": [],
   "source": [
    "import os\n",
    "import sys\n",
    "import json\n",
    "import time\n",
    "import rich\n",
    "import numpy as np\n",
    "import pickle\n",
    "import wandb\n",
    "import tqdm\n",
    "\n",
    "import torch\n",
    "import torch.nn as nn\n",
    "import torch.nn.functional as F\n",
    "\n",
    "from configs.finetune import FinetuneConfig\n",
    "from tasks.classification import Classification\n",
    "\n",
    "from models.backbone.base import calculate_out_features\n",
    "from models.backbone.densenet import DenseNetBackbone\n",
    "from models.backbone.resnet import build_resnet_backbone\n",
    "from models.head.projector import MLPHead\n",
    "from models.head.classifier import LinearClassifier\n",
    "\n",
    "from datasets.brain import BrainProcessor, Brain, BrainMoCo\n",
    "from datasets.transforms import make_transforms, compute_statistics\n",
    "\n",
    "from utils.logging import get_rich_logger\n",
    "from utils.gpu import set_gpu\n",
    "\n",
    "from easydict import EasyDict as edict\n",
    "from torch.utils.data import DataLoader, Subset\n",
    "\n",
    "import matplotlib.pyplot as plt\n",
    "from matplotlib import colors\n",
    "import seaborn as sns\n",
    "\n",
    "import nibabel as nib\n",
    "from skimage.transform import resize\n",
    "\n",
    "from copy import deepcopy"
   ]
  },
  {
   "cell_type": "code",
   "execution_count": 6,
   "id": "4826b240-fe6f-4f19-b051-9a983495c99c",
   "metadata": {},
   "outputs": [],
   "source": [
    "hashs =[(\"2022-07-02_08-00-31\", \"2022-07-03_13-41-32\"),\n",
    "        (\"2022-07-02_08-00-57\", \"2022-07-03_13-37-29\"),\n",
    "        (\"2022-07-02_09-38-52\", \"2022-07-03_13-33-23\"),\n",
    "        (\"2022-07-02_09-40-42\", \"2022-07-03_13-29-10\"),\n",
    "        (\"2022-07-02_11-17-38\", \"2022-07-03_13-25-05\"),\n",
    "        (\"2022-07-02_11-20-21\", \"2022-07-03_13-21-00\"),\n",
    "        (\"2022-07-02_17-15-14\", \"2022-07-03_13-16-54\"),\n",
    "        (\"2022-07-02_17-15-34\", \"2022-07-03_13-12-44\"),\n",
    "        (\"2022-07-02_18-53-46\", \"2022-07-03_13-08-35\"),\n",
    "        (\"2022-07-02_18-54-27\", \"2022-07-03_13-04-32\")]"
   ]
  },
  {
   "cell_type": "code",
   "execution_count": 14,
   "id": "0ff901a8-57f2-4e42-afc3-2583c4d94b1b",
   "metadata": {},
   "outputs": [],
   "source": [
    "gpus = ['1']\n",
    "server = 'dgx'\n",
    "hash = hashs[2]"
   ]
  },
  {
   "cell_type": "code",
   "execution_count": 27,
   "id": "000b5b46-025c-4a96-86f4-8bbb209761e6",
   "metadata": {},
   "outputs": [],
   "source": [
    "logits = []\n",
    "ys = []\n",
    "mc_scores = []\n",
    "\n",
    "\n",
    "#######################\n",
    "config = edict()\n",
    "config.server = server\n",
    "config.gpus = gpus\n",
    "local_rank = 0\n",
    "\n",
    "config.finetune_file = os.path.join(f'../checkpoints/pet-supmoco/resnet/{hash[0]}/finetune/{hash[1]}/ckpt.last.pth.tar')\n",
    "finetune_config = os.path.join(f'../checkpoints/pet-supmoco/resnet/{hash[0]}/finetune/{hash[1]}/configs.json')\n",
    "with open(finetune_config, 'rb') as fb:\n",
    "    finetune_config = json.load(fb)\n",
    "\n",
    "finetune_config_names = [\n",
    "    # data_parser\n",
    "    'data_type', 'root', 'data_info', 'mci_only', 'n_splits', 'n_cv',\n",
    "    'image_size', 'small_kernel', 'random_state',\n",
    "    'intensity', 'crop', 'crop_size', 'rotate', 'flip', 'affine', 'blur', 'blur_std', 'prob',\n",
    "    # model_parser\n",
    "    'backbone_type', 'init_features', 'growth_rate', 'block_config', 'bn_size', 'dropout_rate',\n",
    "    'arch', 'no_max_pool',\n",
    "    # train\n",
    "    'batch_size',\n",
    "    # moco / supmoco\n",
    "    'alphas',\n",
    "    # others\n",
    "    'task', 'projector_dim'\n",
    "]\n",
    "\n",
    "for name in finetune_config_names:\n",
    "    if name in finetune_config.keys():\n",
    "        setattr(config, name, finetune_config[name])\n",
    "\n",
    "#########################################\n",
    "set_gpu(config)\n",
    "np.random.seed(config.random_state)\n",
    "torch.manual_seed(config.random_state)\n",
    "torch.backends.cuda.matmul.allow_tf32 = True\n",
    "torch.backends.cudnn.benchmark = True\n",
    "torch.backends.cudnn.deterministic = False\n",
    "torch.backends.cudnn.allow_tf32 = True\n",
    "torch.cuda.set_device(local_rank)\n",
    "\n",
    "# Networks\n",
    "if config.backbone_type == 'densenet':\n",
    "    backbone = DenseNetBackbone(in_channels=1,\n",
    "                                init_features=config.init_features,\n",
    "                                growth_rate=config.growth_rate,\n",
    "                                block_config=config.block_config,\n",
    "                                bn_size=config.bn_size,\n",
    "                                dropout_rate=config.dropout_rate,\n",
    "                                semi=False)\n",
    "    activation = True\n",
    "elif config.backbone_type == 'resnet':\n",
    "    backbone = build_resnet_backbone(arch=config.arch,\n",
    "                                     no_max_pool=config.no_max_pool,\n",
    "                                     in_channels=1,\n",
    "                                     semi=False)\n",
    "    activation = False\n",
    "else:\n",
    "    raise NotImplementedError\n",
    "\n",
    "if config.small_kernel:\n",
    "    backbone._fix_first_conv()\n",
    "\n",
    "if config.crop:\n",
    "    out_dim = calculate_out_features(backbone=backbone, in_channels=1, image_size=config.crop_size)\n",
    "else:\n",
    "    out_dim = calculate_out_features(backbone=backbone, in_channels=1, image_size=config.image_size)\n",
    "classifier = LinearClassifier(in_channels=out_dim, num_classes=2, activation=activation)\n",
    "\n",
    "backbone.load_weights_from_checkpoint(path=config.finetune_file, key='backbone')\n",
    "classifier.load_weights_from_checkpoint(path=config.finetune_file, key='classifier')\n",
    "\n",
    "# load finetune data\n",
    "data_processor = BrainProcessor(root=config.root,\n",
    "                                data_info=config.data_info,\n",
    "                                data_type=config.data_type,\n",
    "                                mci_only=config.mci_only,\n",
    "                                random_state=config.random_state)\n",
    "datasets = data_processor.process(n_splits=config.n_splits, n_cv=config.n_cv)\n",
    "\n",
    "# intensity normalization\n",
    "assert config.intensity in [None, 'scale', 'minmax']\n",
    "mean_std, min_max = (None, None), (None, None)\n",
    "if config.intensity is None:\n",
    "    pass\n",
    "elif config.intensity == 'scale':\n",
    "    pass\n",
    "elif config.intensity == 'minmax':\n",
    "    with open(os.path.join(config.root, 'labels/minmax.pkl'), 'rb') as fb:\n",
    "        minmax_stats = pickle.load(fb)\n",
    "        min_max = (minmax_stats[config.data_type]['min'], minmax_stats[config.data_type]['max'])\n",
    "else:\n",
    "    raise NotImplementedError\n",
    "\n",
    "train_transform, test_transform = make_transforms(image_size=config.image_size,\n",
    "                                                  intensity=config.intensity,\n",
    "                                                  min_max=min_max,\n",
    "                                                  crop_size=config.crop_size,\n",
    "                                                  rotate=config.rotate,\n",
    "                                                  flip=config.flip,\n",
    "                                                  affine=config.affine,\n",
    "                                                  blur_std=config.blur_std,\n",
    "                                                  prob=config.prob)\n",
    "\n",
    "#########################################\n",
    "train_set = Brain(dataset=datasets['train'], data_type=config.data_type, transform=test_transform)\n",
    "test_set = Brain(dataset=datasets['test'], data_type=config.data_type, transform=test_transform)\n",
    "\n",
    "train_loader = DataLoader(dataset=train_set, batch_size=1, drop_last=False)\n",
    "test_loader = DataLoader(dataset=test_set, batch_size=1, drop_last=False)\n",
    "\n",
    "#########################\n",
    "import pandas as pd\n",
    "mc_table = pd.read_excel('/raidWorkspace/mingu/Data/ADNI/labels/AV45_FBP_SUVR.xlsx', sheet_name='list_id_SUVR_RSF')\n",
    "\n",
    "########################\n",
    "backbone.to(local_rank)\n",
    "classifier.to(local_rank)\n",
    "\n",
    "##\n",
    "backbone.eval()\n",
    "classifier.eval()\n",
    "##\n",
    "with torch.no_grad():\n",
    "    for batch in test_loader:\n",
    "        x = batch['x'].float().to(local_rank)\n",
    "        y = batch['y'].long().to(local_rank)\n",
    "        idx = batch['idx'].item()\n",
    "\n",
    "        logit = classifier(backbone(x))\n",
    "\n",
    "        # get MC score\n",
    "        pet_id = test_set.pet[idx].split('/')[-1].replace('.pkl', '')\n",
    "        mc_score = mc_table.loc[mc_table['ID'] == pet_id]['MC'].values\n",
    "\n",
    "        logits.append(logit.detach().cpu().numpy())\n",
    "        ys.append(y.cpu().numpy())\n",
    "        mc_scores.append(mc_score)"
   ]
  },
  {
   "cell_type": "markdown",
   "id": "ac8eb078-7b02-42be-be53-0b80272a2dc7",
   "metadata": {},
   "source": [
    "## Check MC"
   ]
  },
  {
   "cell_type": "markdown",
   "id": "f6d008a1",
   "metadata": {},
   "source": [
    "### MC-score ~ Classification Probability"
   ]
  },
  {
   "cell_type": "code",
   "execution_count": 28,
   "id": "8e619b8b",
   "metadata": {},
   "outputs": [],
   "source": [
    "# correct = [np.argmax(logit) == y for logit, y in zip(logits, ys)]\n",
    "# logits, ys, mc_scores = logits[correct], ys[correct], mc_scores[correct]"
   ]
  },
  {
   "cell_type": "code",
   "execution_count": 29,
   "id": "bb67d873",
   "metadata": {},
   "outputs": [],
   "source": [
    "logits = np.concatenate(logits)\n",
    "ys = np.concatenate(ys)\n",
    "mc_scores = np.concatenate(mc_scores)\n",
    "\n",
    "mc_scores = 53.6 * mc_scores - 43.2\n",
    "\n",
    "y_pred = torch.tensor(logits).softmax(dim=1).numpy()"
   ]
  },
  {
   "cell_type": "code",
   "execution_count": 30,
   "id": "33cd88ef",
   "metadata": {},
   "outputs": [],
   "source": [
    "from sklearn.metrics import roc_curve\n",
    "fpr, tpr, thresholds = roc_curve(ys, y_pred[:, 1])\n",
    "dist = fpr ** 2 + (1 - tpr) ** 2\n",
    "threshold = thresholds[np.argmin(dist)]"
   ]
  },
  {
   "cell_type": "code",
   "execution_count": 31,
   "id": "f06358be",
   "metadata": {},
   "outputs": [
    {
     "data": {
      "text/plain": [
       "0.34879407"
      ]
     },
     "execution_count": 31,
     "metadata": {},
     "output_type": "execute_result"
    }
   ],
   "source": [
    "threshold"
   ]
  },
  {
   "cell_type": "code",
   "execution_count": 32,
   "id": "4e1ffef9",
   "metadata": {},
   "outputs": [
    {
     "data": {
      "image/png": "[encoded data removed]",
      "text/plain": [
       "<Figure size 432x288 with 1 Axes>"
      ]
     },
     "metadata": {
      "needs_background": "light"
     },
     "output_type": "display_data"
    }
   ],
   "source": [
    "plt.scatter(mc_scores, y_pred[:, 1], c=ys)\n",
    "plt.hlines(y=threshold, xmin=mc_scores.min(), xmax=mc_scores.max())\n",
    "plt.vlines(x=20.0, ymin=y_pred[:, 1].min(), ymax=y_pred[:, 1].max())\n",
    "plt.vlines(x=37.0, ymin=y_pred[:, 1].min(), ymax=y_pred[:, 1].max())\n",
    "plt.show()"
   ]
  },
  {
   "cell_type": "markdown",
   "id": "49001ad3",
   "metadata": {},
   "source": [
    "### MC-score ~ Uncertainty"
   ]
  },
  {
   "cell_type": "markdown",
   "id": "768f0c76",
   "metadata": {},
   "source": [
    "## MC-only RF"
   ]
  },
  {
   "cell_type": "code",
   "execution_count": 33,
   "id": "c9c00a49",
   "metadata": {},
   "outputs": [],
   "source": [
    "from utils.metrics import classification_result"
   ]
  },
  {
   "cell_type": "code",
   "execution_count": 34,
   "id": "05b44ed0",
   "metadata": {},
   "outputs": [
    {
     "data": {
      "text/plain": [
       "{'acc': 0.7962962962962963,\n",
       " 'auroc': 0.8647058823529412,\n",
       " 'sens': 0.7999999959999999,\n",
       " 'spec': 0.7941176447231834,\n",
       " 'prec': 0.6956521708884688,\n",
       " 'f1': 0.7441859932936755,\n",
       " 'gmean': 0.7970533938213148}"
      ]
     },
     "execution_count": 34,
     "metadata": {},
     "output_type": "execute_result"
    }
   ],
   "source": [
    "classification_result(y_true=ys, y_pred=torch.tensor(logits).softmax(dim=1).numpy(), adjusted=True)"
   ]
  },
  {
   "cell_type": "code",
   "execution_count": null,
   "id": "29aca494",
   "metadata": {},
   "outputs": [],
   "source": [
    "target_variables = ['MC']"
   ]
  },
  {
   "cell_type": "code",
   "execution_count": 36,
   "id": "dba2736f",
   "metadata": {},
   "outputs": [],
   "source": [
    "y_train = []\n",
    "mc_train = []\n",
    "for batch in train_loader:\n",
    "    y = batch['y'].numpy()\n",
    "    idx = batch['idx'].item()\n",
    "    \n",
    "    # get MC score\n",
    "    pet_id = train_set.pet[idx].split('/')[-1].replace('.pkl', '')\n",
    "    mc_score = mc_table.loc[mc_table['ID'] == pet_id][target_variables].values\n",
    "    \n",
    "    #\n",
    "    y_train.append(y)\n",
    "    mc_train.append(mc_score)\n",
    "y_train = np.array(y_train).reshape(-1, )\n",
    "mc_train = np.array(mc_train)"
   ]
  },
  {
   "cell_type": "code",
   "execution_count": 42,
   "id": "a96a75c3",
   "metadata": {},
   "outputs": [],
   "source": [
    "y_test = []\n",
    "mc_test = []\n",
    "for batch in test_loader:\n",
    "    y = batch['y'].numpy()\n",
    "    idx = batch['idx'].item()\n",
    "    \n",
    "    # get MC score\n",
    "    pet_id = test_set.pet[idx].split('/')[-1].replace('.pkl', '')\n",
    "    mc_score = mc_table.loc[mc_table['ID'] == pet_id][target_variables].values\n",
    "    \n",
    "    #\n",
    "    y_test.append(y)\n",
    "    mc_test.append(mc_score)\n",
    "y_test = np.array(y_test).reshape(-1, )\n",
    "mc_test = np.array(mc_test)"
   ]
  },
  {
   "cell_type": "code",
   "execution_count": 43,
   "id": "21561727",
   "metadata": {},
   "outputs": [],
   "source": [
    "from sklearn.ensemble import RandomForestClassifier"
   ]
  },
  {
   "cell_type": "code",
   "execution_count": 70,
   "id": "3653aae2",
   "metadata": {},
   "outputs": [
    {
     "data": {
      "text/html": [
       "<style>#sk-container-id-2 {color: black;background-color: white;}#sk-container-id-2 pre{padding: 0;}#sk-container-id-2 div.sk-toggleable {background-color: white;}#sk-container-id-2 label.sk-toggleable__label {cursor: pointer;display: block;width: 100%;margin-bottom: 0;padding: 0.3em;box-sizing: border-box;text-align: center;}#sk-container-id-2 label.sk-toggleable__label-arrow:before {content: \"▸\";float: left;margin-right: 0.25em;color: #696969;}#sk-container-id-2 label.sk-toggleable__label-arrow:hover:before {color: black;}#sk-container-id-2 div.sk-estimator:hover label.sk-toggleable__label-arrow:before {color: black;}#sk-container-id-2 div.sk-toggleable__content {max-height: 0;max-width: 0;overflow: hidden;text-align: left;background-color: #f0f8ff;}#sk-container-id-2 div.sk-toggleable__content pre {margin: 0.2em;color: black;border-radius: 0.25em;background-color: #f0f8ff;}#sk-container-id-2 input.sk-toggleable__control:checked~div.sk-toggleable__content {max-height: 200px;max-width: 100%;overflow: auto;}#sk-container-id-2 input.sk-toggleable__control:checked~label.sk-toggleable__label-arrow:before {content: \"▾\";}#sk-container-id-2 div.sk-estimator input.sk-toggleable__control:checked~label.sk-toggleable__label {background-color: #d4ebff;}#sk-container-id-2 div.sk-label input.sk-toggleable__control:checked~label.sk-toggleable__label {background-color: #d4ebff;}#sk-container-id-2 input.sk-hidden--visually {border: 0;clip: rect(1px 1px 1px 1px);clip: rect(1px, 1px, 1px, 1px);height: 1px;margin: -1px;overflow: hidden;padding: 0;position: absolute;width: 1px;}#sk-container-id-2 div.sk-estimator {font-family: monospace;background-color: #f0f8ff;border: 1px dotted black;border-radius: 0.25em;box-sizing: border-box;margin-bottom: 0.5em;}#sk-container-id-2 div.sk-estimator:hover {background-color: #d4ebff;}#sk-container-id-2 div.sk-parallel-item::after {content: \"\";width: 100%;border-bottom: 1px solid gray;flex-grow: 1;}#sk-container-id-2 div.sk-label:hover label.sk-toggleable__label {background-color: #d4ebff;}#sk-container-id-2 div.sk-serial::before {content: \"\";position: absolute;border-left: 1px solid gray;box-sizing: border-box;top: 0;bottom: 0;left: 50%;z-index: 0;}#sk-container-id-2 div.sk-serial {display: flex;flex-direction: column;align-items: center;background-color: white;padding-right: 0.2em;padding-left: 0.2em;position: relative;}#sk-container-id-2 div.sk-item {position: relative;z-index: 1;}#sk-container-id-2 div.sk-parallel {display: flex;align-items: stretch;justify-content: center;background-color: white;position: relative;}#sk-container-id-2 div.sk-item::before, #sk-container-id-2 div.sk-parallel-item::before {content: \"\";position: absolute;border-left: 1px solid gray;box-sizing: border-box;top: 0;bottom: 0;left: 50%;z-index: -1;}#sk-container-id-2 div.sk-parallel-item {display: flex;flex-direction: column;z-index: 1;position: relative;background-color: white;}#sk-container-id-2 div.sk-parallel-item:first-child::after {align-self: flex-end;width: 50%;}#sk-container-id-2 div.sk-parallel-item:last-child::after {align-self: flex-start;width: 50%;}#sk-container-id-2 div.sk-parallel-item:only-child::after {width: 0;}#sk-container-id-2 div.sk-dashed-wrapped {border: 1px dashed gray;margin: 0 0.4em 0.5em 0.4em;box-sizing: border-box;padding-bottom: 0.4em;background-color: white;}#sk-container-id-2 div.sk-label label {font-family: monospace;font-weight: bold;display: inline-block;line-height: 1.2em;}#sk-container-id-2 div.sk-label-container {text-align: center;}#sk-container-id-2 div.sk-container {/* jupyter's `normalize.less` sets `[hidden] { display: none; }` but bootstrap.min.css set `[hidden] { display: none !important; }` so we also need the `!important` here to be able to override the default hidden behavior on the sphinx rendered scikit-learn.org. See: https://github.com/scikit-learn/scikit-learn/issues/21755 */display: inline-block !important;position: relative;}#sk-container-id-2 div.sk-text-repr-fallback {display: none;}</style><div id=\"sk-container-id-2\" class=\"sk-top-container\"><div class=\"sk-text-repr-fallback\"><pre>RandomForestClassifier()</pre><b>In a Jupyter environment, please rerun this cell to show the HTML representation or trust the notebook. <br />On GitHub, the HTML representation is unable to render, please try loading this page with nbviewer.org.</b></div><div class=\"sk-container\" hidden><div class=\"sk-item\"><div class=\"sk-estimator sk-toggleable\"><input class=\"sk-toggleable__control sk-hidden--visually\" id=\"sk-estimator-id-2\" type=\"checkbox\" checked><label for=\"sk-estimator-id-2\" class=\"sk-toggleable__label sk-toggleable__label-arrow\">RandomForestClassifier</label><div class=\"sk-toggleable__content\"><pre>RandomForestClassifier()</pre></div></div></div></div></div>"
      ],
      "text/plain": [
       "RandomForestClassifier()"
      ]
     },
     "execution_count": 70,
     "metadata": {},
     "output_type": "execute_result"
    }
   ],
   "source": [
    "rf = RandomForestClassifier()\n",
    "rf.fit(mc_train, y_train)"
   ]
  },
  {
   "cell_type": "code",
   "execution_count": 71,
   "id": "92961104",
   "metadata": {},
   "outputs": [],
   "source": [
    "y_train_pred = rf.predict_proba(mc_train)\n",
    "y_test_pred = rf.predict_proba(mc_test)"
   ]
  },
  {
   "cell_type": "code",
   "execution_count": 72,
   "id": "a492571c",
   "metadata": {},
   "outputs": [
    {
     "data": {
      "text/plain": [
       "{'acc': 0.6666666666666666,\n",
       " 'auroc': 0.725735294117647,\n",
       " 'sens': 0.64999999675,\n",
       " 'spec': 0.6764705862456747,\n",
       " 'prec': 0.5416666644097222,\n",
       " 'f1': 0.5909090386363677,\n",
       " 'gmean': 0.6631032188589941}"
      ]
     },
     "execution_count": 72,
     "metadata": {},
     "output_type": "execute_result"
    }
   ],
   "source": [
    "classification_result(y_true=y_test, y_pred=y_test_pred, adjusted=True)"
   ]
  },
  {
   "cell_type": "code",
   "execution_count": 73,
   "id": "9b77f717-3335-4ee8-8557-9efec6b4dfdc",
   "metadata": {},
   "outputs": [],
   "source": [
    "from sklearn.metrics import roc_curve\n",
    "fpr, tpr, thresholds = roc_curve(y_test, y_test_pred[:, 1])\n",
    "dist = fpr ** 2 + (1 - tpr) ** 2\n",
    "threshold = thresholds[np.argmin(dist)]"
   ]
  },
  {
   "cell_type": "code",
   "execution_count": 75,
   "id": "a39e0132",
   "metadata": {},
   "outputs": [],
   "source": [
    "mc_test = 53.6 * mc_test - 43.2"
   ]
  },
  {
   "cell_type": "code",
   "execution_count": 76,
   "id": "95a30040",
   "metadata": {},
   "outputs": [
    {
     "data": {
      "image/png": "[encoded data removed]",
      "text/plain": [
       "<Figure size 432x288 with 1 Axes>"
      ]
     },
     "metadata": {
      "needs_background": "light"
     },
     "output_type": "display_data"
    }
   ],
   "source": [
    "plt.scatter(mc_test, y_pred[:, 1], c=ys)\n",
    "plt.hlines(y=threshold, xmin=mc_test.min(), xmax=mc_test.max())\n",
    "plt.vlines(x=20.0, ymin=y_pred[:, 1].min(), ymax=y_pred[:, 1].max())\n",
    "plt.vlines(x=37.0, ymin=y_pred[:, 1].min(), ymax=y_pred[:, 1].max())\n",
    "plt.show()"
   ]
  },
  {
   "cell_type": "markdown",
   "id": "0776296b",
   "metadata": {},
   "source": [
    "# MC + Hippo Volume RF"
   ]
  },
  {
   "cell_type": "code",
   "execution_count": 7,
   "id": "f129e56d",
   "metadata": {},
   "outputs": [],
   "source": [
    "hash = hashs[2]"
   ]
  },
  {
   "cell_type": "code",
   "execution_count": 24,
   "id": "59db82f3",
   "metadata": {},
   "outputs": [
    {
     "name": "stdout",
     "output_type": "stream",
     "text": [
      "('2022-07-02_08-00-31', '2022-07-03_13-41-32')\n"
     ]
    },
    {
     "name": "stderr",
     "output_type": "stream",
     "text": [
      "100%|███████████████████████████████████████████████████████████████████████████████████| 36/36 [00:45<00:00,  1.25s/it]\n",
      "100%|█████████████████████████████████████████████████████████████████████████████████████| 4/4 [00:04<00:00,  1.15s/it]\n"
     ]
    },
    {
     "name": "stdout",
     "output_type": "stream",
     "text": [
      "('2022-07-02_08-00-57', '2022-07-03_13-37-29')\n"
     ]
    },
    {
     "name": "stderr",
     "output_type": "stream",
     "text": [
      "100%|███████████████████████████████████████████████████████████████████████████████████| 35/35 [00:40<00:00,  1.16s/it]\n",
      "100%|█████████████████████████████████████████████████████████████████████████████████████| 5/5 [00:05<00:00,  1.12s/it]\n"
     ]
    },
    {
     "name": "stdout",
     "output_type": "stream",
     "text": [
      "('2022-07-02_09-38-52', '2022-07-03_13-33-23')\n"
     ]
    },
    {
     "name": "stderr",
     "output_type": "stream",
     "text": [
      "100%|███████████████████████████████████████████████████████████████████████████████████| 36/36 [00:45<00:00,  1.26s/it]\n",
      "100%|█████████████████████████████████████████████████████████████████████████████████████| 4/4 [00:04<00:00,  1.23s/it]\n"
     ]
    },
    {
     "name": "stdout",
     "output_type": "stream",
     "text": [
      "('2022-07-02_09-40-42', '2022-07-03_13-29-10')\n"
     ]
    },
    {
     "name": "stderr",
     "output_type": "stream",
     "text": [
      "100%|███████████████████████████████████████████████████████████████████████████████████| 36/36 [00:46<00:00,  1.30s/it]\n",
      "100%|█████████████████████████████████████████████████████████████████████████████████████| 4/4 [00:03<00:00,  1.07it/s]\n"
     ]
    },
    {
     "name": "stdout",
     "output_type": "stream",
     "text": [
      "('2022-07-02_11-17-38', '2022-07-03_13-25-05')\n"
     ]
    },
    {
     "name": "stderr",
     "output_type": "stream",
     "text": [
      "100%|███████████████████████████████████████████████████████████████████████████████████| 35/35 [00:47<00:00,  1.37s/it]\n",
      "100%|█████████████████████████████████████████████████████████████████████████████████████| 5/5 [00:05<00:00,  1.14s/it]\n"
     ]
    },
    {
     "name": "stdout",
     "output_type": "stream",
     "text": [
      "('2022-07-02_11-20-21', '2022-07-03_13-21-00')\n"
     ]
    },
    {
     "name": "stderr",
     "output_type": "stream",
     "text": [
      "100%|███████████████████████████████████████████████████████████████████████████████████| 35/35 [00:43<00:00,  1.23s/it]\n",
      "100%|█████████████████████████████████████████████████████████████████████████████████████| 5/5 [00:04<00:00,  1.06it/s]\n"
     ]
    },
    {
     "name": "stdout",
     "output_type": "stream",
     "text": [
      "('2022-07-02_17-15-14', '2022-07-03_13-16-54')\n"
     ]
    },
    {
     "name": "stderr",
     "output_type": "stream",
     "text": [
      "100%|███████████████████████████████████████████████████████████████████████████████████| 35/35 [00:39<00:00,  1.14s/it]\n",
      "100%|█████████████████████████████████████████████████████████████████████████████████████| 5/5 [00:05<00:00,  1.10s/it]\n"
     ]
    },
    {
     "name": "stdout",
     "output_type": "stream",
     "text": [
      "('2022-07-02_17-15-34', '2022-07-03_13-12-44')\n"
     ]
    },
    {
     "name": "stderr",
     "output_type": "stream",
     "text": [
      "100%|███████████████████████████████████████████████████████████████████████████████████| 36/36 [00:48<00:00,  1.36s/it]\n",
      "100%|█████████████████████████████████████████████████████████████████████████████████████| 4/4 [00:03<00:00,  1.12it/s]\n"
     ]
    },
    {
     "name": "stdout",
     "output_type": "stream",
     "text": [
      "('2022-07-02_18-53-46', '2022-07-03_13-08-35')\n"
     ]
    },
    {
     "name": "stderr",
     "output_type": "stream",
     "text": [
      "100%|███████████████████████████████████████████████████████████████████████████████████| 36/36 [00:39<00:00,  1.09s/it]\n",
      "100%|█████████████████████████████████████████████████████████████████████████████████████| 4/4 [00:04<00:00,  1.21s/it]\n"
     ]
    },
    {
     "name": "stdout",
     "output_type": "stream",
     "text": [
      "('2022-07-02_18-54-27', '2022-07-03_13-04-32')\n"
     ]
    },
    {
     "name": "stderr",
     "output_type": "stream",
     "text": [
      "100%|███████████████████████████████████████████████████████████████████████████████████| 35/35 [00:45<00:00,  1.30s/it]\n",
      "100%|█████████████████████████████████████████████████████████████████████████████████████| 4/4 [00:04<00:00,  1.25s/it]\n"
     ]
    }
   ],
   "source": [
    "result = []\n",
    "for hash in hashs:\n",
    "    #######################\n",
    "    config = edict()\n",
    "    config.server = server\n",
    "    config.gpus = gpus\n",
    "    local_rank = 0\n",
    "\n",
    "    config.finetune_file = os.path.join(f'../checkpoints/pet-supmoco/resnet/{hash[0]}/finetune/{hash[1]}/ckpt.last.pth.tar')\n",
    "    finetune_config = os.path.join(f'../checkpoints/pet-supmoco/resnet/{hash[0]}/finetune/{hash[1]}/configs.json')\n",
    "    with open(finetune_config, 'rb') as fb:\n",
    "        finetune_config = json.load(fb)\n",
    "\n",
    "    finetune_config_names = [\n",
    "        # data_parser\n",
    "        'data_type', 'root', 'data_info', 'mci_only', 'n_splits', 'n_cv',\n",
    "        'image_size', 'small_kernel', 'random_state',\n",
    "        'intensity', 'crop', 'crop_size', 'rotate', 'flip', 'affine', 'blur', 'blur_std', 'prob',\n",
    "        # model_parser\n",
    "        'backbone_type', 'init_features', 'growth_rate', 'block_config', 'bn_size', 'dropout_rate',\n",
    "        'arch', 'no_max_pool',\n",
    "        # train\n",
    "        'batch_size',\n",
    "        # moco / supmoco\n",
    "        'alphas',\n",
    "        # others\n",
    "        'task', 'projector_dim'\n",
    "    ]\n",
    "\n",
    "    for name in finetune_config_names:\n",
    "        if name in finetune_config.keys():\n",
    "            setattr(config, name, finetune_config[name])\n",
    "\n",
    "    #########################################\n",
    "    set_gpu(config)\n",
    "    np.random.seed(config.random_state)\n",
    "    torch.manual_seed(config.random_state)\n",
    "    torch.backends.cuda.matmul.allow_tf32 = True\n",
    "    torch.backends.cudnn.benchmark = True\n",
    "    torch.backends.cudnn.deterministic = False\n",
    "    torch.backends.cudnn.allow_tf32 = True\n",
    "    torch.cuda.set_device(local_rank)\n",
    "\n",
    "    # Networks\n",
    "    if config.backbone_type == 'densenet':\n",
    "        backbone = DenseNetBackbone(in_channels=1,\n",
    "                                    init_features=config.init_features,\n",
    "                                    growth_rate=config.growth_rate,\n",
    "                                    block_config=config.block_config,\n",
    "                                    bn_size=config.bn_size,\n",
    "                                    dropout_rate=config.dropout_rate,\n",
    "                                    semi=False)\n",
    "        activation = True\n",
    "    elif config.backbone_type == 'resnet':\n",
    "        backbone = build_resnet_backbone(arch=config.arch,\n",
    "                                         no_max_pool=config.no_max_pool,\n",
    "                                         in_channels=1,\n",
    "                                         semi=False)\n",
    "        activation = False\n",
    "    else:\n",
    "        raise NotImplementedError\n",
    "\n",
    "    if config.small_kernel:\n",
    "        backbone._fix_first_conv()\n",
    "\n",
    "    if config.crop:\n",
    "        out_dim = calculate_out_features(backbone=backbone, in_channels=1, image_size=config.crop_size)\n",
    "    else:\n",
    "        out_dim = calculate_out_features(backbone=backbone, in_channels=1, image_size=config.image_size)\n",
    "    classifier = LinearClassifier(in_channels=out_dim, num_classes=2, activation=activation)\n",
    "\n",
    "    backbone.load_weights_from_checkpoint(path=config.finetune_file, key='backbone')\n",
    "    classifier.load_weights_from_checkpoint(path=config.finetune_file, key='classifier')\n",
    "\n",
    "    # load finetune data\n",
    "    data_processor = BrainProcessor(root=config.root,\n",
    "                                    data_info=config.data_info,\n",
    "                                    data_type=config.data_type,\n",
    "                                    mci_only=config.mci_only,\n",
    "                                    random_state=config.random_state)\n",
    "    datasets = data_processor.process(n_splits=config.n_splits, n_cv=config.n_cv)\n",
    "\n",
    "    # intensity normalization\n",
    "    assert config.intensity in [None, 'scale', 'minmax']\n",
    "    mean_std, min_max = (None, None), (None, None)\n",
    "    if config.intensity is None:\n",
    "        pass\n",
    "    elif config.intensity == 'scale':\n",
    "        pass\n",
    "    elif config.intensity == 'minmax':\n",
    "        with open(os.path.join(config.root, 'labels/minmax.pkl'), 'rb') as fb:\n",
    "            minmax_stats = pickle.load(fb)\n",
    "            min_max = (minmax_stats[config.data_type]['min'], minmax_stats[config.data_type]['max'])\n",
    "    else:\n",
    "        raise NotImplementedError\n",
    "\n",
    "    train_transform, test_transform = make_transforms(image_size=config.image_size,\n",
    "                                                      intensity=config.intensity,\n",
    "                                                      min_max=min_max,\n",
    "                                                      crop_size=config.crop_size,\n",
    "                                                      rotate=config.rotate,\n",
    "                                                      flip=config.flip,\n",
    "                                                      affine=config.affine,\n",
    "                                                      blur_std=config.blur_std,\n",
    "                                                      prob=config.prob)\n",
    "\n",
    "    #########################################\n",
    "    train_set = Brain(dataset=datasets['train'], data_type=config.data_type, transform=test_transform)\n",
    "    test_set = Brain(dataset=datasets['test'], data_type=config.data_type, transform=test_transform)\n",
    "\n",
    "    train_loader = DataLoader(dataset=train_set, batch_size=16, drop_last=False)\n",
    "    test_loader = DataLoader(dataset=test_set, batch_size=16, drop_last=False)\n",
    "\n",
    "    #########################\n",
    "    train = {'y': [], 'mc': [], 'hippocampus': []}\n",
    "    test = {'y': [], 'mc': [], 'hippocampus': []}\n",
    "\n",
    "    import pandas as pd\n",
    "    mc_table = pd.read_excel('/raidWorkspace/mingu/Data/ADNI/labels/AV45_FBP_SUVR.xlsx', sheet_name='list_id_SUVR_RSF')\n",
    "    mri_table = pd.read_csv('/raidWorkspace/mingu/Data/ADNI/labels/MRI_BAI_features.csv')\n",
    "    mri_table_filenames = mri_table['Filename'].str.split('/', expand=True).iloc[:, 1].values\n",
    "\n",
    "    ########################\n",
    "    backbone.to(local_rank)\n",
    "    classifier.to(local_rank)\n",
    "\n",
    "    with torch.no_grad():\n",
    "        print(hash)\n",
    "        for mode, dset, loader in zip(['train', 'test'], [train_set, test_set], [train_loader, test_loader]):\n",
    "            for batch in tqdm.tqdm(loader):\n",
    "                y = batch['y'].long().to(local_rank)\n",
    "                if mode == 'train':\n",
    "                    train['y'] += [batch['y'].detach().cpu().numpy()]\n",
    "                else:\n",
    "                    test['y'] += [batch['y'].detach().cpu().numpy()]\n",
    "\n",
    "\n",
    "                idx = batch['idx'].cpu().numpy()        \n",
    "                for i in idx:\n",
    "                    mri_id = dset.mri[i].split('/')[-1].replace('.pkl', '')\n",
    "                    pet_id = dset.pet[i].split('/')[-1].replace('.pkl', '')\n",
    "\n",
    "                    # hippocampus volume            \n",
    "                    temp = mri_table.iloc[np.where(mri_table_filenames == mri_id)[0].item(), :]\n",
    "                    volume = temp['Left-Hippocampus'] + temp['Right-Hippocampus']\n",
    "\n",
    "                    # NC\n",
    "                    temp = mc_table.iloc[np.where(mc_table['ID'] == pet_id)[0].item(), :]\n",
    "                    mc = temp['MC']\n",
    "                    mc = 53.6 * mc - 43.2\n",
    "\n",
    "                    if mode == 'train':\n",
    "                        train['hippocampus'].append(volume)\n",
    "                        train['mc'].append(mc)\n",
    "                    else:\n",
    "                        test['hippocampus'].append(volume)\n",
    "                        test['mc'].append(mc)\n",
    "    for k, v in train.items():\n",
    "        try:\n",
    "            train[k] = np.concatenate(v)\n",
    "        except:\n",
    "            train[k] = np.array(v)\n",
    "\n",
    "    for k, v in test.items():\n",
    "        try:\n",
    "            test[k] = np.concatenate(v)\n",
    "        except:\n",
    "            test[k] = np.array(v)\n",
    "    \n",
    "    ##############\n",
    "    from sklearn.ensemble import RandomForestClassifier\n",
    "    from utils.metrics import classification_result\n",
    "    \n",
    "    rf = RandomForestClassifier()\n",
    "    \n",
    "    X_train = np.concatenate([train['hippocampus'].reshape(-1, 1), train['mc'].reshape(-1, 1)], axis=1)\n",
    "    X_test = np.concatenate([test['hippocampus'].reshape(-1, 1), test['mc'].reshape(-1, 1)], axis=1)\n",
    "\n",
    "    rf.fit(X_train, train['y'])\n",
    "    y_test_pred = rf.predict_proba(X_test)\n",
    "    result.append(classification_result(y_true=test['y'], y_pred=y_test_pred, adjusted=True))"
   ]
  },
  {
   "cell_type": "code",
   "execution_count": 26,
   "id": "99e5c85b",
   "metadata": {},
   "outputs": [
    {
     "name": "stdout",
     "output_type": "stream",
     "text": [
      "acc 0.7271146322023162\n",
      "auroc 0.786232415948261\n",
      "sens 0.7513499073388694\n",
      "spec 0.7149183352750763\n",
      "prec 0.4973952218291237\n",
      "f1 0.5936757248107447\n",
      "gmean 0.7303841723901645\n"
     ]
    }
   ],
   "source": [
    "for key in result[0].keys():    \n",
    "    print(key, np.mean([res[key] for res in result]))"
   ]
  },
  {
   "cell_type": "code",
   "execution_count": 23,
   "id": "e93b17d7",
   "metadata": {},
   "outputs": [
    {
     "data": {
      "text/plain": [
       "[{'acc': 0.75,\n",
       "  'auroc': 0.826829268292683,\n",
       "  'sens': 0.7333333284444445,\n",
       "  'spec': 0.7560975591314694,\n",
       "  'prec': 0.5238095213151928,\n",
       "  'f1': 0.6111110591049421,\n",
       "  'gmean': 0.7446284574649298}]"
      ]
     },
     "execution_count": 23,
     "metadata": {},
     "output_type": "execute_result"
    }
   ],
   "source": []
  },
  {
   "cell_type": "code",
   "execution_count": null,
   "id": "492053d5",
   "metadata": {},
   "outputs": [],
   "source": []
  }
 ],
 "metadata": {
  "kernelspec": {
   "display_name": "Python 3 (ipykernel)",
   "language": "python",
   "name": "python3"
  },
  "language_info": {
   "codemirror_mode": {
    "name": "ipython",
    "version": 3
   },
   "file_extension": ".py",
   "mimetype": "text/x-python",
   "name": "python",
   "nbconvert_exporter": "python",
   "pygments_lexer": "ipython3",
   "version": "3.8.12"
  }
 },
 "nbformat": 4,
 "nbformat_minor": 5
}
