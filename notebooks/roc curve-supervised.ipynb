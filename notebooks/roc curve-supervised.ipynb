{
 "cells": [
  {
   "cell_type": "code",
   "execution_count": 4,
   "id": "8867b0ed-5e66-4b8a-9e38-1f68bd3f24a5",
   "metadata": {},
   "outputs": [
    {
     "name": "stdout",
     "output_type": "stream",
     "text": [
      "Wed Dec 28 03:45:59 2022       \n",
      "+-----------------------------------------------------------------------------+\n",
      "| NVIDIA-SMI 470.57.02    Driver Version: 470.57.02    CUDA Version: 11.4     |\n",
      "|-------------------------------+----------------------+----------------------+\n",
      "| GPU  Name        Persistence-M| Bus-Id        Disp.A | Volatile Uncorr. ECC |\n",
      "| Fan  Temp  Perf  Pwr:Usage/Cap|         Memory-Usage | GPU-Util  Compute M. |\n",
      "|                               |                      |               MIG M. |\n",
      "|===============================+======================+======================|\n",
      "|   0  Tesla V100-DGXS...  On   | 00000000:07:00.0 Off |                    0 |\n",
      "| N/A   42C    P0    83W / 300W |   3575MiB / 32505MiB |     70%      Default |\n",
      "|                               |                      |                  N/A |\n",
      "+-------------------------------+----------------------+----------------------+\n",
      "|   1  Tesla V100-DGXS...  On   | 00000000:08:00.0 Off |                    0 |\n",
      "| N/A   43C    P0   128W / 300W |  28769MiB / 32508MiB |     16%      Default |\n",
      "|                               |                      |                  N/A |\n",
      "+-------------------------------+----------------------+----------------------+\n",
      "|   2  Tesla V100-DGXS...  On   | 00000000:0E:00.0 Off |                    0 |\n",
      "| N/A   40C    P0    37W / 300W |      9MiB / 32508MiB |      0%      Default |\n",
      "|                               |                      |                  N/A |\n",
      "+-------------------------------+----------------------+----------------------+\n",
      "|   3  Tesla V100-DGXS...  On   | 00000000:0F:00.0 Off |                    0 |\n",
      "| N/A   40C    P0    39W / 300W |      9MiB / 32508MiB |      0%      Default |\n",
      "|                               |                      |                  N/A |\n",
      "+-------------------------------+----------------------+----------------------+\n",
      "                                                                               \n",
      "+-----------------------------------------------------------------------------+\n",
      "| Processes:                                                                  |\n",
      "|  GPU   GI   CI        PID   Type   Process name                  GPU Memory |\n",
      "|        ID   ID                                                   Usage      |\n",
      "|=============================================================================|\n",
      "+-----------------------------------------------------------------------------+\n"
     ]
    }
   ],
   "source": [
    "!nvidia-smi"
   ]
  },
  {
   "cell_type": "code",
   "execution_count": 5,
   "id": "4b963230-caf8-45bd-a724-6f7a2221076d",
   "metadata": {},
   "outputs": [],
   "source": [
    "import sys\n",
    "sys.path.append('../')"
   ]
  },
  {
   "cell_type": "code",
   "execution_count": 6,
   "id": "57bc59ea-cd6c-4ffd-a130-a461b1907bb2",
   "metadata": {},
   "outputs": [],
   "source": [
    "import os\n",
    "import sys\n",
    "import json\n",
    "import time\n",
    "import rich\n",
    "import numpy as np\n",
    "import pickle\n",
    "import wandb\n",
    "import tqdm\n",
    "\n",
    "import torch\n",
    "import torch.nn as nn\n",
    "import torch.nn.functional as F\n",
    "\n",
    "from configs.finetune import FinetuneConfig\n",
    "from tasks.classification import Classification\n",
    "\n",
    "from models.backbone.base import calculate_out_features\n",
    "from models.backbone.densenet import DenseNetBackbone\n",
    "from models.backbone.resnet import build_resnet_backbone\n",
    "from models.head.projector import MLPHead\n",
    "from models.head.classifier import LinearClassifier\n",
    "\n",
    "from datasets.brain import BrainProcessor, Brain, BrainMoCo\n",
    "from datasets.transforms import make_transforms, compute_statistics\n",
    "\n",
    "from utils.logging import get_rich_logger\n",
    "from utils.gpu import set_gpu\n",
    "\n",
    "from easydict import EasyDict as edict\n",
    "from torch.utils.data import DataLoader, Subset\n",
    "\n",
    "import matplotlib.pyplot as plt\n",
    "from matplotlib import colors\n",
    "\n",
    "from skimage.transform import resize\n",
    "\n",
    "from utils.metrics import classification_result"
   ]
  },
  {
   "cell_type": "code",
   "execution_count": 7,
   "id": "4826b240-fe6f-4f19-b051-9a983495c99c",
   "metadata": {},
   "outputs": [],
   "source": [
    "hashs =[\"2022-07-17_08-42-37\", \"2022-07-17_08-08-44\", \"2022-07-17_07-35-01\", \"2022-07-17_07-00-28\", \"2022-07-17_06-26-33\",\n",
    "        \"2022-07-17_05-52-44\", \"2022-07-17_05-18-44\", \"2022-07-17_04-45-35\", \"2022-07-17_04-11-44\", \"2022-07-17_03-37-31\"]"
   ]
  },
  {
   "cell_type": "code",
   "execution_count": 8,
   "id": "0ff901a8-57f2-4e42-afc3-2583c4d94b1b",
   "metadata": {},
   "outputs": [],
   "source": [
    "gpus = ['3']\n",
    "server = 'dgx'"
   ]
  },
  {
   "cell_type": "code",
   "execution_count": 9,
   "id": "7095d0c1",
   "metadata": {},
   "outputs": [],
   "source": [
    "result_total = dict()"
   ]
  },
  {
   "cell_type": "code",
   "execution_count": 10,
   "id": "7e36ed36",
   "metadata": {},
   "outputs": [
    {
     "data": {
      "text/plain": [
       "['pet-swa', 'pet-supmoco_finetune_demo', 'pet', 'pet-supmoco']"
      ]
     },
     "execution_count": 10,
     "metadata": {},
     "output_type": "execute_result"
    }
   ],
   "source": [
    "os.listdir('../checkpoints')"
   ]
  },
  {
   "cell_type": "code",
   "execution_count": 63,
   "id": "000b5b46-025c-4a96-86f4-8bbb209761e6",
   "metadata": {},
   "outputs": [
    {
     "name": "stdout",
     "output_type": "stream",
     "text": [
      "('2022-07-02_08-00-31', '2022-07-03_13-41-32')\n",
      "('2022-07-02_08-00-57', '2022-07-03_13-37-29')\n",
      "('2022-07-02_09-38-52', '2022-07-03_13-33-23')\n",
      "('2022-07-02_09-40-42', '2022-07-03_13-29-10')\n",
      "('2022-07-02_11-17-38', '2022-07-03_13-25-05')\n",
      "('2022-07-02_11-20-21', '2022-07-03_13-21-00')\n",
      "('2022-07-02_17-15-14', '2022-07-03_13-16-54')\n",
      "('2022-07-02_17-15-34', '2022-07-03_13-12-44')\n",
      "('2022-07-02_18-53-46', '2022-07-03_13-08-35')\n",
      "('2022-07-02_18-54-27', '2022-07-03_13-04-32')\n"
     ]
    }
   ],
   "source": [
    "for hash in hashs:\n",
    "    \n",
    "    print(hash)\n",
    "    \n",
    "    config = edict()\n",
    "    config.server = server\n",
    "    config.gpus = gpus\n",
    "    local_rank = 0\n",
    "\n",
    "    config.finetune_file = os.path.join(f'../checkpoints/pet-supmoco/resnet/{hash[0]}/finetune/{hash[1]}/ckpt.last.pth.tar')\n",
    "    finetune_config = os.path.join(f'../checkpoints/pet-supmoco/resnet/{hash[0]}/finetune/{hash[1]}/configs.json')\n",
    "    with open(finetune_config, 'rb') as fb:\n",
    "        finetune_config = json.load(fb)\n",
    "\n",
    "    finetune_config_names = [\n",
    "        # data_parser\n",
    "        'data_type', 'root', 'data_info', 'mci_only', 'n_splits', 'n_cv',\n",
    "        'image_size', 'small_kernel', 'random_state',\n",
    "        'intensity', 'crop', 'crop_size', 'rotate', 'flip', 'affine', 'blur', 'blur_std', 'prob',\n",
    "        # model_parser\n",
    "        'backbone_type', 'init_features', 'growth_rate', 'block_config', 'bn_size', 'dropout_rate',\n",
    "        'arch', 'no_max_pool',\n",
    "        # train\n",
    "        'batch_size',\n",
    "        # moco / supmoco\n",
    "        'alphas',\n",
    "        # others\n",
    "        'task', 'projector_dim'\n",
    "    ]\n",
    "    \n",
    "    for name in finetune_config_names:\n",
    "        if name in finetune_config.keys():\n",
    "            setattr(config, name, finetune_config[name])\n",
    "            \n",
    "    set_gpu(config)\n",
    "\n",
    "    np.random.seed(config.random_state)\n",
    "    torch.manual_seed(config.random_state)\n",
    "    torch.backends.cuda.matmul.allow_tf32 = True\n",
    "    torch.backends.cudnn.benchmark = True\n",
    "    torch.backends.cudnn.deterministic = False\n",
    "    torch.backends.cudnn.allow_tf32 = True\n",
    "    torch.cuda.set_device(local_rank)\n",
    "\n",
    "    # Networks\n",
    "    if config.backbone_type == 'densenet':\n",
    "        backbone = DenseNetBackbone(in_channels=1,\n",
    "                                    init_features=config.init_features,\n",
    "                                    growth_rate=config.growth_rate,\n",
    "                                    block_config=config.block_config,\n",
    "                                    bn_size=config.bn_size,\n",
    "                                    dropout_rate=config.dropout_rate,\n",
    "                                    semi=False)\n",
    "        activation = True\n",
    "    elif config.backbone_type == 'resnet':\n",
    "        backbone = build_resnet_backbone(arch=config.arch,\n",
    "                                         no_max_pool=config.no_max_pool,\n",
    "                                         in_channels=1,\n",
    "                                         semi=False)\n",
    "        activation = False\n",
    "    else:\n",
    "        raise NotImplementedError\n",
    "\n",
    "    if config.small_kernel:\n",
    "        backbone._fix_first_conv()\n",
    "\n",
    "    if config.crop:\n",
    "        out_dim = calculate_out_features(backbone=backbone, in_channels=1, image_size=config.crop_size)\n",
    "    else:\n",
    "        out_dim = calculate_out_features(backbone=backbone, in_channels=1, image_size=config.image_size)\n",
    "    classifier = LinearClassifier(in_channels=out_dim, num_classes=2, activation=activation)\n",
    "\n",
    "    backbone.load_weights_from_checkpoint(path=config.finetune_file, key='backbone')\n",
    "    classifier.load_weights_from_checkpoint(path=config.finetune_file, key='classifier')\n",
    "\n",
    "    backbone.to(local_rank)\n",
    "    classifier.to(local_rank)\n",
    "    \n",
    "    # load finetune data\n",
    "    data_processor = BrainProcessor(root=config.root,\n",
    "                                    data_info=config.data_info,\n",
    "                                    data_type=config.data_type,\n",
    "                                    mci_only=config.mci_only,\n",
    "                                    random_state=config.random_state)\n",
    "    datasets = data_processor.process(n_splits=config.n_splits, n_cv=config.n_cv)\n",
    "\n",
    "    # intensity normalization\n",
    "    assert config.intensity in [None, 'scale', 'minmax']\n",
    "    mean_std, min_max = (None, None), (None, None)\n",
    "    if config.intensity is None:\n",
    "        pass\n",
    "    elif config.intensity == 'scale':\n",
    "        pass\n",
    "    elif config.intensity == 'minmax':\n",
    "        with open(os.path.join(config.root, 'labels/minmax.pkl'), 'rb') as fb:\n",
    "            minmax_stats = pickle.load(fb)\n",
    "            min_max = (minmax_stats[config.data_type]['min'], minmax_stats[config.data_type]['max'])\n",
    "    else:\n",
    "        raise NotImplementedError\n",
    "\n",
    "    train_transform, test_transform = make_transforms(image_size=config.image_size,\n",
    "                                                      intensity=config.intensity,\n",
    "                                                      min_max=min_max,\n",
    "                                                      crop_size=config.crop_size,\n",
    "                                                      rotate=config.rotate,\n",
    "                                                      flip=config.flip,\n",
    "                                                      affine=config.affine,\n",
    "                                                      blur_std=config.blur_std,\n",
    "                                                      prob=config.prob)\n",
    "\n",
    "    train_set = Brain(dataset=datasets['train'], data_type=config.data_type, transform=test_transform)\n",
    "    test_set = Brain(dataset=datasets['test'], data_type=config.data_type, transform=test_transform)\n",
    "\n",
    "    train_loader = DataLoader(dataset=train_set, batch_size=config.batch_size, drop_last=False)\n",
    "    test_loader = DataLoader(dataset=test_set, batch_size=config.batch_size, drop_last=False)\n",
    "    \n",
    "    y_true, y_pred = [], []\n",
    "    for i, batch in enumerate(test_loader):\n",
    "\n",
    "        x = batch['x'].float().to(local_rank)\n",
    "        y = batch['y'].to(local_rank)\n",
    "        logits = classifier(backbone(x))\n",
    "\n",
    "        y_true.append(y.long().cpu().numpy())\n",
    "        y_pred.append(logits.detach().cpu().numpy())\n",
    "\n",
    "    # accuracy and macro f1 score\n",
    "    y_true = np.concatenate(y_true)\n",
    "    y_pred = np.concatenate(y_pred)\n",
    "    y_pred = torch.tensor(y_pred).softmax(1).numpy()\n",
    "\n",
    "    clf_result = classification_result(y_true=y_true,\n",
    "                                       y_pred=y_pred,\n",
    "                                       adjusted=True)\n",
    "    \n",
    "    result_total[config.random_state] = dict()\n",
    "    result_total[config.random_state]['y_true'] = y_true\n",
    "    result_total[config.random_state]['y_pred'] = y_pred\n",
    "    result_total[config.random_state]['clf_result'] = clf_result"
   ]
  },
  {
   "cell_type": "code",
   "execution_count": 67,
   "id": "627cb3f5",
   "metadata": {},
   "outputs": [],
   "source": [
    "y_true_total = []\n",
    "y_pred_total = []\n",
    "for random_state, result in result_total.items():\n",
    "    if random_state not in [2027, 2031]:\n",
    "        y_true_total.append(result['y_true'])\n",
    "        y_pred_total.append(result['y_pred'])\n",
    "y_true_total = np.concatenate(y_true_total)\n",
    "y_pred_total = np.concatenate(y_pred_total)"
   ]
  },
  {
   "cell_type": "code",
   "execution_count": 68,
   "id": "1c6fa17b",
   "metadata": {
    "scrolled": true
   },
   "outputs": [
    {
     "data": {
      "image/png": "[encoded data removed]",
      "text/plain": [
       "<Figure size 432x288 with 1 Axes>"
      ]
     },
     "metadata": {
      "needs_background": "light"
     },
     "output_type": "display_data"
    }
   ],
   "source": [
    "from sklearn.metrics import roc_curve\n",
    "import matplotlib.pyplot as plt\n",
    "\n",
    "fpr, tpr, threshold = roc_curve(y_true_total, y_pred_total[:,1])\n",
    "\n",
    "plt.title('Receiver Operating Characteristic')\n",
    "plt.plot(fpr, tpr, 'b', label = 'AUC = %0.2f' % clf_result['auroc'])\n",
    "plt.legend(loc = 'lower right')\n",
    "plt.plot([0, 1], [0, 1],'r--')\n",
    "plt.xlim([0, 1])\n",
    "plt.ylim([0, 1])\n",
    "plt.ylabel('True Positive Rate')\n",
    "plt.xlabel('False Positive Rate')\n",
    "plt.show()"
   ]
  },
  {
   "cell_type": "code",
   "execution_count": 70,
   "id": "082f236d",
   "metadata": {},
   "outputs": [],
   "source": [
    "with open('smoco_result.pkl', 'wb') as f:\n",
    "    pickle.dump(result_total, f)"
   ]
  },
  {
   "cell_type": "code",
   "execution_count": null,
   "id": "315c5f7d",
   "metadata": {},
   "outputs": [],
   "source": []
  }
 ],
 "metadata": {
  "kernelspec": {
   "display_name": "Python 3 (ipykernel)",
   "language": "python",
   "name": "python3"
  },
  "language_info": {
   "codemirror_mode": {
    "name": "ipython",
    "version": 3
   },
   "file_extension": ".py",
   "mimetype": "text/x-python",
   "name": "python",
   "nbconvert_exporter": "python",
   "pygments_lexer": "ipython3",
   "version": "3.8.12"
  }
 },
 "nbformat": 4,
 "nbformat_minor": 5
}
