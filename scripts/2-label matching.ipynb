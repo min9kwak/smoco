{
 "cells": [
  {
   "cell_type": "code",
   "execution_count": 1,
   "metadata": {
    "collapsed": true
   },
   "outputs": [],
   "source": [
    "import os\n",
    "import glob\n",
    "import pandas as pd\n",
    "import numpy as np\n",
    "import re\n",
    "import datetime"
   ]
  },
  {
   "cell_type": "code",
   "execution_count": 2,
   "outputs": [],
   "source": [
    "DATA_DIR = \"D:/data/ADNI\""
   ],
   "metadata": {
    "collapsed": false,
    "pycharm": {
     "name": "#%%\n"
    }
   }
  },
  {
   "cell_type": "code",
   "execution_count": 3,
   "outputs": [],
   "source": [
    "columns = ['RID', 'DX', 'Conv', 'Filename']\n",
    "demo_columns = ['PTGENDER (1=male, 2=female)', 'Age', 'PTEDUCAT', 'APOE Status', 'MMSCORE', 'CDGLOBAL', 'SUM BOXES']\n",
    "columns = columns + demo_columns"
   ],
   "metadata": {
    "collapsed": false,
    "pycharm": {
     "name": "#%%\n"
    }
   }
  },
  {
   "cell_type": "code",
   "execution_count": 4,
   "outputs": [],
   "source": [
    "# pre-defined label - only MCI related patients are included\n",
    "mri_labels = pd.read_csv(os.path.join(DATA_DIR, \"labels/MRI_features_all.csv\"))\n",
    "mri_labels = mri_labels[columns]"
   ],
   "metadata": {
    "collapsed": false,
    "pycharm": {
     "name": "#%%\n"
    }
   }
  },
  {
   "cell_type": "code",
   "execution_count": 5,
   "outputs": [],
   "source": [
    "summary = mri_labels.copy()\n",
    "summary['Filename'].str.split('/')\n",
    "summary[['PET Type', 'MRI']] = summary['Filename'].str.split('/', expand=True)\n",
    "summary = summary.loc[~summary.MRI.isna()].reset_index(drop=True)"
   ],
   "metadata": {
    "collapsed": false,
    "pycharm": {
     "name": "#%%\n"
    }
   }
  },
  {
   "cell_type": "code",
   "execution_count": 6,
   "outputs": [],
   "source": [
    "# add amyloid PET (FBP)\n",
    "fbp_proc_params = glob.glob(os.path.join(DATA_DIR, \"PUP_FBP/*/*/*.param\"), recursive=True)\n",
    "fbp_logs = []\n",
    "for fbp_proc_param in fbp_proc_params:\n",
    "    with open(fbp_proc_param, 'rb') as f:\n",
    "        res = f.readlines()\n",
    "        r = [r for r in res if r.startswith(b'fsdir=/datadrive/ADNI_STTR/proc/FS7')]\n",
    "        if len(r) == 1:\n",
    "            k = fbp_proc_param.split('\\\\')[-1].replace('_pet.param', '')\n",
    "            v = r[0].decode('utf-8').split('/')[-2]\n",
    "            fbp_logs.append([k, v])\n",
    "        else:\n",
    "            raise ValueError\n",
    "fbp_logs = pd.DataFrame(fbp_logs)\n",
    "fbp_logs.columns = ['FBP', 'MRI']"
   ],
   "metadata": {
    "collapsed": false,
    "pycharm": {
     "name": "#%%\n"
    }
   }
  },
  {
   "cell_type": "code",
   "execution_count": 7,
   "outputs": [
    {
     "data": {
      "text/plain": "(1463, 2)"
     },
     "execution_count": 7,
     "metadata": {},
     "output_type": "execute_result"
    }
   ],
   "source": [
    "fbp_logs.shape"
   ],
   "metadata": {
    "collapsed": false,
    "pycharm": {
     "name": "#%%\n"
    }
   }
  },
  {
   "cell_type": "code",
   "execution_count": 8,
   "outputs": [],
   "source": [
    "# add FDG PET (FDG)\n",
    "fdg_proc_params = glob.glob(os.path.join(DATA_DIR, \"FDG/*/*/*.param\"), recursive=True)\n",
    "fdg_logs = []\n",
    "for fdg_proc_param in fdg_proc_params:\n",
    "    with open(fdg_proc_param, 'rb') as f:\n",
    "        res = f.readlines()\n",
    "        r = [r for r in res if r.startswith(b'fsdir=/datadrive/ADNI_STTR/proc/FS7')]\n",
    "        if len(r) == 1:\n",
    "            k = fdg_proc_param.split('\\\\')[-1].replace('_pet.param', '')\n",
    "            v = r[0].decode('utf-8').split('/')[-2]\n",
    "            fdg_logs.append([k, v])\n",
    "        else:\n",
    "            raise ValueError\n",
    "fdg_logs = pd.DataFrame(fdg_logs)\n",
    "fdg_logs.columns = ['FDG', 'MRI']"
   ],
   "metadata": {
    "collapsed": false,
    "pycharm": {
     "name": "#%%\n"
    }
   }
  },
  {
   "cell_type": "code",
   "execution_count": 9,
   "outputs": [
    {
     "data": {
      "text/plain": "(2044, 2)"
     },
     "execution_count": 9,
     "metadata": {},
     "output_type": "execute_result"
    }
   ],
   "source": [
    "fdg_logs.shape"
   ],
   "metadata": {
    "collapsed": false,
    "pycharm": {
     "name": "#%%\n"
    }
   }
  },
  {
   "cell_type": "code",
   "execution_count": 10,
   "outputs": [
    {
     "data": {
      "text/plain": "(3342, 14)"
     },
     "execution_count": 10,
     "metadata": {},
     "output_type": "execute_result"
    }
   ],
   "source": [
    "summary = pd.merge(left=summary, right=fbp_logs, how='left', left_on=['MRI'], right_on=['MRI'])\n",
    "summary.shape"
   ],
   "metadata": {
    "collapsed": false,
    "pycharm": {
     "name": "#%%\n"
    }
   }
  },
  {
   "cell_type": "code",
   "execution_count": 11,
   "outputs": [
    {
     "data": {
      "text/plain": "(3352, 15)"
     },
     "execution_count": 11,
     "metadata": {},
     "output_type": "execute_result"
    }
   ],
   "source": [
    "summary = pd.merge(left=summary, right=fdg_logs, how='left', left_on=['MRI'], right_on=['MRI'])\n",
    "summary.shape"
   ],
   "metadata": {
    "collapsed": false,
    "pycharm": {
     "name": "#%%\n"
    }
   }
  },
  {
   "cell_type": "code",
   "execution_count": 12,
   "outputs": [],
   "source": [
    "summary.Conv = summary.Conv.fillna(-1)\n",
    "summary.DX = summary.DX.fillna(-1)\n",
    "summary['MCI'] = [1 if d in [2, 4, 8] else 0 for d in summary.DX.tolist()]"
   ],
   "metadata": {
    "collapsed": false,
    "pycharm": {
     "name": "#%%\n"
    }
   }
  },
  {
   "cell_type": "code",
   "execution_count": 39,
   "outputs": [],
   "source": [
    "IS_FILE = [os.path.isdir(os.path.join(DATA_DIR, f\"FS7/{mri}/cat12/mri/\")) for mri in summary.MRI]\n",
    "summary['IS_FILE'] = IS_FILE"
   ],
   "metadata": {
    "collapsed": false,
    "pycharm": {
     "name": "#%%\n"
    }
   }
  },
  {
   "cell_type": "code",
   "execution_count": 40,
   "outputs": [],
   "source": [
    "summary.Conv = summary.Conv.astype(int)\n",
    "summary.to_csv(os.path.join(DATA_DIR, \"labels/data_info.csv\"), index=False)"
   ],
   "metadata": {
    "collapsed": false,
    "pycharm": {
     "name": "#%%\n"
    }
   }
  },
  {
   "cell_type": "code",
   "execution_count": null,
   "outputs": [],
   "source": [],
   "metadata": {
    "collapsed": false,
    "pycharm": {
     "name": "#%%\n"
    }
   }
  }
 ],
 "metadata": {
  "kernelspec": {
   "display_name": "Python 3",
   "language": "python",
   "name": "python3"
  },
  "language_info": {
   "codemirror_mode": {
    "name": "ipython",
    "version": 2
   },
   "file_extension": ".py",
   "mimetype": "text/x-python",
   "name": "python",
   "nbconvert_exporter": "python",
   "pygments_lexer": "ipython2",
   "version": "2.7.6"
  }
 },
 "nbformat": 4,
 "nbformat_minor": 0
}