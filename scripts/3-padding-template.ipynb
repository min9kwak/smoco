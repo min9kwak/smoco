{
 "cells": [
  {
   "cell_type": "code",
   "execution_count": 16,
   "metadata": {
    "collapsed": true
   },
   "outputs": [],
   "source": [
    "import os\n",
    "import tqdm\n",
    "import numpy as np\n",
    "import pandas as pd\n",
    "import glob\n",
    "import nibabel as nib\n",
    "import matplotlib.pyplot as plt\n",
    "import seaborn as sns\n",
    "import pickle"
   ]
  },
  {
   "cell_type": "code",
   "execution_count": 17,
   "outputs": [],
   "source": [
    "# root = 'D:/data/ADNI'\n",
    "root = 'D:/data/ADNI'\n",
    "data_info = pd.read_csv(os.path.join(root, 'labels/data_info.csv'))"
   ],
   "metadata": {
    "collapsed": false,
    "pycharm": {
     "name": "#%%\n"
    }
   }
  },
  {
   "cell_type": "code",
   "execution_count": 18,
   "outputs": [],
   "source": [
    "fdg_save_dir = os.path.join(root, \"template/FDG\")\n",
    "os.makedirs(fdg_save_dir, exist_ok=True)"
   ],
   "metadata": {
    "collapsed": false,
    "pycharm": {
     "name": "#%%\n"
    }
   }
  },
  {
   "cell_type": "code",
   "execution_count": 19,
   "outputs": [],
   "source": [
    "data_info = data_info.loc[data_info.IS_FILE]\n",
    "brain_files = [os.path.join(root, 'FS7', row.MRI, f'cat12/mri/wm{row.MRI}N.nii.gz')\n",
    "               for _, row in data_info.iterrows()]"
   ],
   "metadata": {
    "collapsed": false,
    "pycharm": {
     "name": "#%%\n"
    }
   }
  },
  {
   "cell_type": "code",
   "execution_count": 20,
   "outputs": [
    {
     "name": "stderr",
     "output_type": "stream",
     "text": [
      "100%|██████████| 3348/3348 [15:49<00:00,  3.53it/s]\n"
     ]
    }
   ],
   "source": [
    "for _, row in tqdm.tqdm(data_info.iterrows(), total=len(data_info)):\n",
    "\n",
    "    mri_file = os.path.join(root, 'FS7', row.MRI, f'cat12/mri/wm{row.MRI}N.nii.gz')\n",
    "    if type(row.FDG) == str:\n",
    "        pet_file = os.path.join(root, 'FDG', row.FDG, f'pet_proc/w_{row.FDG}_SUVR.nii')\n",
    "    else:\n",
    "        pet_file = None\n",
    "\n",
    "    mri = nib.load(mri_file).get_fdata()\n",
    "    mri_pad = np.pad(mri, ((12, 12), (0, 0), (12, 12)), 'constant')\n",
    "    # with open(os.path.join(mri_save_dir, f'{row.MRI}.pkl'), 'wb') as fb:\n",
    "    #     pickle.dump(mri_pad, fb)\n",
    "\n",
    "    if pet_file is not None:\n",
    "        pet = nib.load(pet_file).get_fdata()\n",
    "        pet = np.nan_to_num(pet)\n",
    "        mask = (mri == 0)\n",
    "        pet[mask] = 0\n",
    "        pet_pad = np.pad(pet, ((12, 12), (0, 0), (12, 12)), 'constant')\n",
    "        with open(os.path.join(fdg_save_dir, f'{row.FDG}.pkl'), 'wb') as fb:\n",
    "            pickle.dump(pet_pad, fb)"
   ],
   "metadata": {
    "collapsed": false,
    "pycharm": {
     "name": "#%%\n"
    }
   }
  },
  {
   "cell_type": "code",
   "execution_count": null,
   "outputs": [],
   "source": [],
   "metadata": {
    "collapsed": false,
    "pycharm": {
     "name": "#%%\n"
    }
   }
  }
 ],
 "metadata": {
  "kernelspec": {
   "display_name": "Python 3",
   "language": "python",
   "name": "python3"
  },
  "language_info": {
   "codemirror_mode": {
    "name": "ipython",
    "version": 2
   },
   "file_extension": ".py",
   "mimetype": "text/x-python",
   "name": "python",
   "nbconvert_exporter": "python",
   "pygments_lexer": "ipython2",
   "version": "2.7.6"
  }
 },
 "nbformat": 4,
 "nbformat_minor": 0
}