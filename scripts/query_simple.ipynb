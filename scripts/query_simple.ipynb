{
 "cells": [
  {
   "cell_type": "code",
   "execution_count": 1,
   "metadata": {},
   "outputs": [],
   "source": [
    "import pandas as pd\n",
    "import numpy as np\n",
    "# import seaborn as sn\n",
    "import matplotlib.pyplot as plt\n",
    "import itertools\n",
    "\n",
    "dx_use_final = pd.read_csv(\"DX_USE.csv\")\n",
    "\n",
    "\n",
    "def vc2mon(viscode):\n",
    "\n",
    "    viscode = np.array(viscode)\n",
    "    month = np.zeros_like(viscode, dtype=np.int32)\n",
    "    for i, vc in enumerate(viscode):\n",
    "        if vc == 'nv':\n",
    "            month[i] = -1\n",
    "        elif vc != 'bl' and vc != 'sc' and vc != 'scmri':\n",
    "            month[i] = int(vc[1:])\n",
    "\n",
    "    return month\n"
   ]
  },
  {
   "cell_type": "code",
   "execution_count": 2,
   "metadata": {},
   "outputs": [
    {
     "name": "stdout",
     "output_type": "stream",
     "text": [
      "['bl' 'm06' 'm12' 'm24' 'm18' 'm36' 'm48' 'm60' 'm72' 'sc' 'm84' 'm96'\n",
      " 'm108' 'm120' 'm132' 'm144' 'm156' 'm168' 'm180']\n"
     ]
    }
   ],
   "source": [
    "dx_use = dx_use_final\n",
    "print(dx_use['VISCODE2'].unique())\n",
    "dx_use['Month'] = vc2mon(dx_use['VISCODE2'])\n"
   ]
  },
  {
   "cell_type": "code",
   "execution_count": 3,
   "metadata": {},
   "outputs": [
    {
     "name": "stderr",
     "output_type": "stream",
     "text": [
      "C:\\Users\\zhengzhiyang\\Anaconda3\\envs\\ml\\lib\\site-packages\\ipykernel_launcher.py:3: SettingWithCopyWarning: \n",
      "A value is trying to be set on a copy of a slice from a DataFrame.\n",
      "Try using .loc[row_indexer,col_indexer] = value instead\n",
      "\n",
      "See the caveats in the documentation: https://pandas.pydata.org/pandas-docs/stable/user_guide/indexing.html#returning-a-view-versus-a-copy\n",
      "  This is separate from the ipykernel package so we can avoid doing imports until\n"
     ]
    }
   ],
   "source": [
    "data = pd.read_csv(\"MRI_BAI_features.csv\")\n",
    "mri_data = data[['RID', 'VISCODE2']]\n",
    "mri_data['Month'] = vc2mon(mri_data['VISCODE2'])"
   ]
  },
  {
   "cell_type": "code",
   "execution_count": 34,
   "metadata": {},
   "outputs": [],
   "source": [
    "def get_feature_dx(dx_use, features):\n",
    "    feature_pet = pd.merge(\n",
    "        features.drop(['VISCODE2'], axis=1),\n",
    "        dx_use[['RID', 'VISCODE2', 'Month', 'DX']], how='inner', on=['RID'])\n",
    "\n",
    "    feature_pet.drop_duplicates(inplace=True)\n",
    "    is_feature = np.zeros((len(feature_pet),), dtype=np.int32)\n",
    "    is_feature[feature_pet['Month_x'] == feature_pet['Month_y']] = 1\n",
    "    feature_pet.loc[:, ['is_feature']] = is_feature\n",
    "\n",
    "    # Delete the replicated rows\n",
    "    feature_pet_1 = pd.merge(feature_pet.drop(['Month_x'], axis=1), feature_pet.drop(\n",
    "        ['Month_x'], axis=1), how='inner', on=['RID', 'Month_y', 'DX'])\n",
    "    feature_pet_1['is_feature'] = np.maximum(\n",
    "        feature_pet_1['is_feature_x'], feature_pet_1['is_feature_y'])\n",
    "    feature_pet_1.drop(['is_feature_x', 'is_feature_y'], axis=1, inplace=True)\n",
    "    feature_pet_1.sort_values(\n",
    "        by=['RID', 'Month_y', 'is_feature'], inplace=True)\n",
    "    feature_pet_1.drop_duplicates(\n",
    "        subset=['RID', 'Month_y'], keep='last', inplace=True)\n",
    "    feature_pet_1.drop(['VISCODE2_y'], axis=1, inplace=True)\n",
    "\n",
    "    return feature_pet_1\n"
   ]
  },
  {
   "cell_type": "code",
   "execution_count": 35,
   "metadata": {},
   "outputs": [
    {
     "data": {
      "text/html": [
       "<div>\n",
       "<style scoped>\n",
       "    .dataframe tbody tr th:only-of-type {\n",
       "        vertical-align: middle;\n",
       "    }\n",
       "\n",
       "    .dataframe tbody tr th {\n",
       "        vertical-align: top;\n",
       "    }\n",
       "\n",
       "    .dataframe thead th {\n",
       "        text-align: right;\n",
       "    }\n",
       "</style>\n",
       "<table border=\"1\" class=\"dataframe\">\n",
       "  <thead>\n",
       "    <tr style=\"text-align: right;\">\n",
       "      <th></th>\n",
       "      <th>RID</th>\n",
       "      <th>VISCODE2</th>\n",
       "      <th>Month</th>\n",
       "      <th>DX</th>\n",
       "      <th>is_feature</th>\n",
       "    </tr>\n",
       "  </thead>\n",
       "  <tbody>\n",
       "    <tr>\n",
       "      <th>135276</th>\n",
       "      <td>33</td>\n",
       "      <td>bl</td>\n",
       "      <td>0</td>\n",
       "      <td>2</td>\n",
       "      <td>1</td>\n",
       "    </tr>\n",
       "    <tr>\n",
       "      <th>135310</th>\n",
       "      <td>33</td>\n",
       "      <td>m06</td>\n",
       "      <td>6</td>\n",
       "      <td>2</td>\n",
       "      <td>1</td>\n",
       "    </tr>\n",
       "    <tr>\n",
       "      <th>135350</th>\n",
       "      <td>33</td>\n",
       "      <td>m12</td>\n",
       "      <td>12</td>\n",
       "      <td>2</td>\n",
       "      <td>1</td>\n",
       "    </tr>\n",
       "    <tr>\n",
       "      <th>135383</th>\n",
       "      <td>33</td>\n",
       "      <td>m18</td>\n",
       "      <td>18</td>\n",
       "      <td>2</td>\n",
       "      <td>1</td>\n",
       "    </tr>\n",
       "    <tr>\n",
       "      <th>135421</th>\n",
       "      <td>33</td>\n",
       "      <td>m24</td>\n",
       "      <td>24</td>\n",
       "      <td>2</td>\n",
       "      <td>1</td>\n",
       "    </tr>\n",
       "  </tbody>\n",
       "</table>\n",
       "</div>"
      ],
      "text/plain": [
       "        RID VISCODE2  Month  DX  is_feature\n",
       "135276   33       bl      0   2           1\n",
       "135310   33      m06      6   2           1\n",
       "135350   33      m12     12   2           1\n",
       "135383   33      m18     18   2           1\n",
       "135421   33      m24     24   2           1"
      ]
     },
     "execution_count": 35,
     "metadata": {},
     "output_type": "execute_result"
    }
   ],
   "source": [
    "feature_mri = get_feature_dx(dx_use, mri_data)\n",
    "feature_mri.rename(columns={\"Month_y\": \"Month\", \"VISCODE2_x\": \"VISCODE2\"}, inplace=True)\n",
    "feature_mri.head()"
   ]
  },
  {
   "cell_type": "code",
   "execution_count": 41,
   "metadata": {},
   "outputs": [],
   "source": [
    "data = pd.read_csv(\"MRI_BAI_features.csv\")\n",
    "data['Month'] = vc2mon(data['VISCODE2'])\n",
    "feature_mri_1 = pd.merge(\n",
    "    feature_mri, data, how='outer', on=['RID', 'Month'],\n",
    "    suffixes=('_dx', '_mri'))\n"
   ]
  },
  {
   "cell_type": "code",
   "execution_count": 42,
   "metadata": {},
   "outputs": [],
   "source": [
    "feature_mri_1.to_csv(\"MRI_features_all.csv\", index=False)"
   ]
  }
 ],
 "metadata": {
  "interpreter": {
   "hash": "450655b78ec3fbf832427ccfb6609f5b025405cb024de360003805c7935d5964"
  },
  "kernelspec": {
   "display_name": "Python 3.7.12 ('ml')",
   "language": "python",
   "name": "python3"
  },
  "language_info": {
   "codemirror_mode": {
    "name": "ipython",
    "version": 3
   },
   "file_extension": ".py",
   "mimetype": "text/x-python",
   "name": "python",
   "nbconvert_exporter": "python",
   "pygments_lexer": "ipython3",
   "version": "3.7.12"
  },
  "orig_nbformat": 4
 },
 "nbformat": 4,
 "nbformat_minor": 2
}
